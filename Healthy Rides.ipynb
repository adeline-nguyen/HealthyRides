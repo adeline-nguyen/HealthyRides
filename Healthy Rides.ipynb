{
 "cells": [
  {
   "cell_type": "markdown",
   "metadata": {},
   "source": [
    "# Project 3: Healthy Rides "
   ]
  },
  {
   "cell_type": "markdown",
   "metadata": {},
   "source": [
    "**Import modules**"
   ]
  },
  {
   "cell_type": "code",
   "execution_count": 1,
   "metadata": {},
   "outputs": [],
   "source": [
    "import pandas as pd\n",
    "import numpy as np\n",
    "from datascience import *\n",
    "\n",
    "import matplotlib\n",
    "%matplotlib inline\n",
    "import matplotlib.pyplot as plt\n",
    "plt.style.use('fivethirtyeight')\n",
    "import warnings\n",
    "warnings.simplefilter('ignore', FutureWarning)\n"
   ]
  },
  {
   "cell_type": "markdown",
   "metadata": {},
   "source": [
    "**Import the Data**\n",
    "\n",
    "This project centers around looking at the varying types of trips taken by users through the biking company Healthy Rides over the course of three years (2015-2017). Trips are defined as any valid rental one minute or longer that starts and ends at a Healthy Ride station. For the purposes of this project, we will also break up the time period into quarters where quarter 1 consists of January, February, & March; quarter 2 consists of April, May, & June; quarter 3 consists of July, August, & September; and quarter 4 consists of October, November, & December. The dataset we utilize for this project comes from https://catalog.data.gov/dataset/healthy-ride-trip-data and includes the Bike ID of the bike used, membership type of the user, when the trip started and ended, and where the trip started and ended. Below, we have loaded the tables containing data on the Healthy Ride rentals for the years 2015-2017 by quarter. "
   ]
  },
  {
   "cell_type": "code",
   "execution_count": 2,
   "metadata": {},
   "outputs": [],
   "source": [
    "Rides2017_q1=Table.read_table(\"healthy-ride-rentals-2017-q1.csv\") \n",
    "Rides2017_q2=Table.read_table(\"healthy-ride-rentals-2017-q2.csv\") \n",
    "Rides2017_q3=Table.read_table(\"healthy-ride-rentals-2017-q3.csv\") \n",
    "Rides2016_q1=Table.read_table(\"healthyride-rentals-2016-q1.csv\") \n",
    "Rides2016_q2=Table.read_table(\"healthyride-rentals-2016-q2.csv\") \n",
    "Rides2016_q3=Table.read_table(\"healthyride-rentals-2016-q3.csv\") \n",
    "Rides2016_q4=Table.read_table(\"healthyride-rentals-2016-q4.csv\") \n",
    "Rides2015_q2=Table.read_table(\"healthyride-rentals-2015-q2.csv\") \n",
    "Rides2015_q3=Table.read_table(\"healthyride-rentals-2015-q3.csv\") \n",
    "Rides2015_q4=Table.read_table(\"healthyride-rentals-2015-q4.csv\") \n",
    "Stations_2017=Table.read_table(\"healthyridestations2017.csv\") "
   ]
  },
  {
   "cell_type": "markdown",
   "metadata": {},
   "source": [
    "**Combine All the Tables into one Large Table**\n",
    "\n",
    "In order to work with all the data, we have combined all of the tables for each quarter and year into one large table called `total_tables` using the function `append`. "
   ]
  },
  {
   "cell_type": "code",
   "execution_count": 3,
   "metadata": {},
   "outputs": [],
   "source": [
    "total_tables=Rides2017_q1.copy()\n",
    "total_tables=total_tables.append(Rides2017_q2).append(Rides2017_q3).append(Rides2016_q1).append(Rides2016_q2).append(Rides2016_q3).append(Rides2016_q4).append(Rides2015_q2).append(Rides2015_q3).append(Rides2015_q4)\n"
   ]
  },
  {
   "cell_type": "markdown",
   "metadata": {},
   "source": [
    "Additionally, in order to have even more ways to work with the data, we used the `join` function to add the latitude and longitude of each station to 'total_tables', pulling this from a table we defined above called `Stations_2017` and called this new table `Total_with_all_stuff_final`. "
   ]
  },
  {
   "cell_type": "code",
   "execution_count": 4,
   "metadata": {},
   "outputs": [
    {
     "data": {
      "text/html": [
       "<table border=\"1\" class=\"dataframe\">\n",
       "    <thead>\n",
       "        <tr>\n",
       "            <th>To station id</th> <th>From station id</th> <th>Trip id</th> <th>Starttime</th> <th>Stoptime</th> <th>Bikeid</th> <th>Tripduration</th> <th>From station name</th> <th>To station name</th> <th>Usertype</th> <th># of Racks</th> <th>Start Latitude</th> <th>Start Longitude</th> <th>End Latitude</th> <th>End Longitude</th>\n",
       "        </tr>\n",
       "    </thead>\n",
       "    <tbody>\n",
       "        <tr>\n",
       "            <td>1000         </td> <td>1000           </td> <td>25767868</td> <td>1/11/2017 14:01</td> <td>1/11/2017 14:25</td> <td>70013 </td> <td>1482        </td> <td>Liberty Ave & Stanwix St</td> <td>Liberty Ave & Stanwix St</td> <td>Customer</td> <td>16        </td> <td>40.4413       </td> <td>-80.0047       </td> <td>40.4413     </td> <td>-80.0047     </td>\n",
       "        </tr>\n",
       "    </tbody>\n",
       "        <tr>\n",
       "            <td>1000         </td> <td>1000           </td> <td>25767880</td> <td>1/11/2017 14:03</td> <td>1/11/2017 14:26</td> <td>70479 </td> <td>1384        </td> <td>Liberty Ave & Stanwix St</td> <td>Liberty Ave & Stanwix St</td> <td>Customer</td> <td>16        </td> <td>40.4413       </td> <td>-80.0047       </td> <td>40.4413     </td> <td>-80.0047     </td>\n",
       "        </tr>\n",
       "    </tbody>\n",
       "        <tr>\n",
       "            <td>1000         </td> <td>1000           </td> <td>25779222</td> <td>1/13/2017 12:11</td> <td>1/13/2017 12:17</td> <td>70155 </td> <td>355         </td> <td>Liberty Ave & Stanwix St</td> <td>Liberty Ave & Stanwix St</td> <td>Customer</td> <td>16        </td> <td>40.4413       </td> <td>-80.0047       </td> <td>40.4413     </td> <td>-80.0047     </td>\n",
       "        </tr>\n",
       "    </tbody>\n",
       "        <tr>\n",
       "            <td>1000         </td> <td>1000           </td> <td>25812448</td> <td>1/19/2017 15:13</td> <td>1/19/2017 16:23</td> <td>70446 </td> <td>4223        </td> <td>Liberty Ave & Stanwix St</td> <td>Liberty Ave & Stanwix St</td> <td>Customer</td> <td>16        </td> <td>40.4413       </td> <td>-80.0047       </td> <td>40.4413     </td> <td>-80.0047     </td>\n",
       "        </tr>\n",
       "    </tbody>\n",
       "        <tr>\n",
       "            <td>1000         </td> <td>1000           </td> <td>25817308</td> <td>1/20/2017 10:21</td> <td>1/20/2017 10:22</td> <td>70093 </td> <td>81          </td> <td>Liberty Ave & Stanwix St</td> <td>Liberty Ave & Stanwix St</td> <td>Customer</td> <td>16        </td> <td>40.4413       </td> <td>-80.0047       </td> <td>40.4413     </td> <td>-80.0047     </td>\n",
       "        </tr>\n",
       "    </tbody>\n",
       "        <tr>\n",
       "            <td>1000         </td> <td>1000           </td> <td>25823113</td> <td>1/21/2017 12:25</td> <td>1/21/2017 13:41</td> <td>70036 </td> <td>4548        </td> <td>Liberty Ave & Stanwix St</td> <td>Liberty Ave & Stanwix St</td> <td>Customer</td> <td>16        </td> <td>40.4413       </td> <td>-80.0047       </td> <td>40.4413     </td> <td>-80.0047     </td>\n",
       "        </tr>\n",
       "    </tbody>\n",
       "        <tr>\n",
       "            <td>1000         </td> <td>1000           </td> <td>25823127</td> <td>1/21/2017 12:27</td> <td>1/21/2017 13:17</td> <td>70195 </td> <td>3027        </td> <td>Liberty Ave & Stanwix St</td> <td>Liberty Ave & Stanwix St</td> <td>Customer</td> <td>16        </td> <td>40.4413       </td> <td>-80.0047       </td> <td>40.4413     </td> <td>-80.0047     </td>\n",
       "        </tr>\n",
       "    </tbody>\n",
       "        <tr>\n",
       "            <td>1000         </td> <td>1000           </td> <td>25823856</td> <td>1/21/2017 15:03</td> <td>1/21/2017 15:49</td> <td>70442 </td> <td>2800        </td> <td>Liberty Ave & Stanwix St</td> <td>Liberty Ave & Stanwix St</td> <td>Customer</td> <td>16        </td> <td>40.4413       </td> <td>-80.0047       </td> <td>40.4413     </td> <td>-80.0047     </td>\n",
       "        </tr>\n",
       "    </tbody>\n",
       "        <tr>\n",
       "            <td>1000         </td> <td>1000           </td> <td>25823865</td> <td>1/21/2017 15:05</td> <td>1/21/2017 15:50</td> <td>70414 </td> <td>2663        </td> <td>Liberty Ave & Stanwix St</td> <td>Liberty Ave & Stanwix St</td> <td>Customer</td> <td>16        </td> <td>40.4413       </td> <td>-80.0047       </td> <td>40.4413     </td> <td>-80.0047     </td>\n",
       "        </tr>\n",
       "    </tbody>\n",
       "        <tr>\n",
       "            <td>1000         </td> <td>1000           </td> <td>25823907</td> <td>1/21/2017 15:13</td> <td>1/21/2017 15:48</td> <td>70028 </td> <td>2106        </td> <td>Liberty Ave & Stanwix St</td> <td>Liberty Ave & Stanwix St</td> <td>Customer</td> <td>16        </td> <td>40.4413       </td> <td>-80.0047       </td> <td>40.4413     </td> <td>-80.0047     </td>\n",
       "        </tr>\n",
       "    </tbody>\n",
       "</table>\n",
       "<p>... (197749 rows omitted)</p>"
      ],
      "text/plain": [
       "To station id | From station id | Trip id  | Starttime       | Stoptime        | Bikeid | Tripduration | From station name        | To station name          | Usertype | # of Racks | Start Latitude | Start Longitude | End Latitude | End Longitude\n",
       "1000          | 1000            | 25767868 | 1/11/2017 14:01 | 1/11/2017 14:25 | 70013  | 1482         | Liberty Ave & Stanwix St | Liberty Ave & Stanwix St | Customer | 16         | 40.4413        | -80.0047        | 40.4413      | -80.0047\n",
       "1000          | 1000            | 25767880 | 1/11/2017 14:03 | 1/11/2017 14:26 | 70479  | 1384         | Liberty Ave & Stanwix St | Liberty Ave & Stanwix St | Customer | 16         | 40.4413        | -80.0047        | 40.4413      | -80.0047\n",
       "1000          | 1000            | 25779222 | 1/13/2017 12:11 | 1/13/2017 12:17 | 70155  | 355          | Liberty Ave & Stanwix St | Liberty Ave & Stanwix St | Customer | 16         | 40.4413        | -80.0047        | 40.4413      | -80.0047\n",
       "1000          | 1000            | 25812448 | 1/19/2017 15:13 | 1/19/2017 16:23 | 70446  | 4223         | Liberty Ave & Stanwix St | Liberty Ave & Stanwix St | Customer | 16         | 40.4413        | -80.0047        | 40.4413      | -80.0047\n",
       "1000          | 1000            | 25817308 | 1/20/2017 10:21 | 1/20/2017 10:22 | 70093  | 81           | Liberty Ave & Stanwix St | Liberty Ave & Stanwix St | Customer | 16         | 40.4413        | -80.0047        | 40.4413      | -80.0047\n",
       "1000          | 1000            | 25823113 | 1/21/2017 12:25 | 1/21/2017 13:41 | 70036  | 4548         | Liberty Ave & Stanwix St | Liberty Ave & Stanwix St | Customer | 16         | 40.4413        | -80.0047        | 40.4413      | -80.0047\n",
       "1000          | 1000            | 25823127 | 1/21/2017 12:27 | 1/21/2017 13:17 | 70195  | 3027         | Liberty Ave & Stanwix St | Liberty Ave & Stanwix St | Customer | 16         | 40.4413        | -80.0047        | 40.4413      | -80.0047\n",
       "1000          | 1000            | 25823856 | 1/21/2017 15:03 | 1/21/2017 15:49 | 70442  | 2800         | Liberty Ave & Stanwix St | Liberty Ave & Stanwix St | Customer | 16         | 40.4413        | -80.0047        | 40.4413      | -80.0047\n",
       "1000          | 1000            | 25823865 | 1/21/2017 15:05 | 1/21/2017 15:50 | 70414  | 2663         | Liberty Ave & Stanwix St | Liberty Ave & Stanwix St | Customer | 16         | 40.4413        | -80.0047        | 40.4413      | -80.0047\n",
       "1000          | 1000            | 25823907 | 1/21/2017 15:13 | 1/21/2017 15:48 | 70028  | 2106         | Liberty Ave & Stanwix St | Liberty Ave & Stanwix St | Customer | 16         | 40.4413        | -80.0047        | 40.4413      | -80.0047\n",
       "... (197749 rows omitted)"
      ]
     },
     "execution_count": 4,
     "metadata": {},
     "output_type": "execute_result"
    }
   ],
   "source": [
    "Total_with_start_stuff=total_tables.join(\"From station id\", Stations_2017, \"Station #\").relabel(\"Latitude\", \"Start Latitude\").relabel(\"Longitude\", \"Start Longitude\")\n",
    "Total_with_all_stuff=Total_with_start_stuff.join(\"To station id\", Stations_2017, \"Station #\").relabel(\"Latitude\", \"End Latitude\").relabel(\"Longitude\", \"End Longitude\")\n",
    "Total_with_all_stuff_final=Total_with_all_stuff.drop(\"# of Racks_2\",\"Station Name\",\"Station Name_2\")\n",
    "Total_with_all_stuff_final"
   ]
  },
  {
   "cell_type": "markdown",
   "metadata": {},
   "source": [
    "Since we are interested in the varying types of trips each type of user takes and whether these trips vary with the time or day of year, we first wanted to look at the most common trips all users take in general at any time of year.\n",
    "\n",
    "## 1. What is the most common start and end destination combination?\n",
    "\n",
    "To start, we can look at the map below to visualize the location of all the stations and see all the different start and stop combinations available to the users."
   ]
  },
  {
   "cell_type": "code",
   "execution_count": 5,
   "metadata": {
    "scrolled": true
   },
   "outputs": [
    {
     "data": {
      "text/html": [
       "<iframe srcdoc=\"<!DOCTYPE html>\n",
       "<head>\n",
       "   <meta http-equiv=&quot;content-type&quot; content=&quot;text/html; charset=UTF-8&quot; />\n",
       "   <link rel=&quot;stylesheet&quot; href=&quot;https://cdnjs.cloudflare.com/ajax/libs/leaflet/0.7.3/leaflet.css&quot; />\n",
       "   <script src=&quot;https://cdnjs.cloudflare.com/ajax/libs/leaflet/0.7.3/leaflet.js&quot;></script>\n",
       "\n",
       "   <script src=&quot;https://ajax.googleapis.com/ajax/libs/jquery/1.11.1/jquery.min.js&quot;></script>\n",
       "\n",
       "   <link rel=&quot;stylesheet&quot; href=&quot;https://maxcdn.bootstrapcdn.com/bootstrap/3.2.0/css/bootstrap.min.css&quot;>\n",
       "   <link rel=&quot;stylesheet&quot; href=&quot;https://maxcdn.bootstrapcdn.com/bootstrap/3.2.0/css/bootstrap-theme.min.css&quot;>\n",
       "   <script src=&quot;https://maxcdn.bootstrapcdn.com/bootstrap/3.2.0/js/bootstrap.min.js&quot;></script>\n",
       "\n",
       "   <link href=&quot;https://maxcdn.bootstrapcdn.com/font-awesome/4.1.0/css/font-awesome.min.css&quot; rel=&quot;stylesheet&quot;>\n",
       "\n",
       "   <link rel=&quot;stylesheet&quot; href=&quot;https://rawgit.com/lvoogdt/Leaflet.awesome-markers/2.0/develop/dist/leaflet.awesome-markers.css&quot;>\n",
       "   <script src=&quot;https://rawgithub.com/lvoogdt/Leaflet.awesome-markers/2.0/develop/dist/leaflet.awesome-markers.js&quot;></script>\n",
       "\n",
       "\n",
       "   <link rel=&quot;stylesheet&quot; href=&quot;https://cdnjs.cloudflare.com/ajax/libs/leaflet.markercluster/0.4.0/MarkerCluster.Default.css&quot;>\n",
       "   <link rel=&quot;stylesheet&quot; href=&quot;https://cdnjs.cloudflare.com/ajax/libs/leaflet.markercluster/0.4.0/MarkerCluster.css&quot;>\n",
       "   <script src=&quot;https://cdnjs.cloudflare.com/ajax/libs/leaflet.markercluster/0.4.0/leaflet.markercluster-src.js&quot;></script>\n",
       "   <script src=&quot;https://cdnjs.cloudflare.com/ajax/libs/leaflet.markercluster/0.4.0/leaflet.markercluster.js&quot;></script>\n",
       "\n",
       "   <link rel=&quot;stylesheet&quot; href=&quot;https://birdage.github.io/Leaflet.awesome-markers/dist/leaflet.awesome.rotate.css&quot;>\n",
       "\n",
       "   \n",
       "   \n",
       "   \n",
       "   \n",
       "\n",
       "   <style>\n",
       "\n",
       "      html, body {\n",
       "        width: 100%;\n",
       "        height: 100%;\n",
       "        margin: 0;\n",
       "        padding: 0;\n",
       "      }\n",
       "\n",
       "      #map {\n",
       "        position:absolute;\n",
       "        top:0;\n",
       "        bottom:0;\n",
       "        right:0;\n",
       "        left:0;\n",
       "      }\n",
       "\n",
       "   </style>\n",
       "</head>\n",
       "\n",
       "<body>\n",
       "\n",
       "   <div class=&quot;folium-map&quot; id=&quot;folium_1f327f18d9944fe6a307669339263bb8&quot; style=&quot;width: 960px; height: 500px&quot;></div>\n",
       "\n",
       "   <script>\n",
       "\n",
       "      \n",
       "\n",
       "      var base_tile = L.tileLayer('https://{s}.tile.openstreetmap.org/{z}/{x}/{y}.png', {\n",
       "          maxZoom: 17,\n",
       "          minZoom: 9.0,\n",
       "          attribution: 'Map data (c) <a href=&quot;http://openstreetmap.org&quot;>OpenStreetMap</a> contributors'\n",
       "      });\n",
       "\n",
       "      var baseLayer = {\n",
       "        &quot;Base Layer&quot;: base_tile\n",
       "      };\n",
       "\n",
       "      /*\n",
       "      addition of the wms layers\n",
       "      */\n",
       "\n",
       "      \n",
       "\n",
       "      /*\n",
       "      addition of the tile layers\n",
       "      */\n",
       "      \n",
       "\n",
       "      /*\n",
       "      list of layers to be added\n",
       "      */\n",
       "      var layer_list = {\n",
       "      \n",
       "      };\n",
       "\n",
       "      /*\n",
       "      Bounding box.\n",
       "      */\n",
       "      var southWest = L.latLng(-90, -180),\n",
       "          northEast = L.latLng(90, 180),\n",
       "          bounds = L.latLngBounds(southWest, northEast);\n",
       "\n",
       "      /*\n",
       "      Creates the map and adds the selected layers\n",
       "      */\n",
       "      var map = L.map('folium_1f327f18d9944fe6a307669339263bb8', {\n",
       "                                       center:[40.44905574, -79.964226],\n",
       "                                       zoom: 11.0,\n",
       "                                       maxBounds: bounds,\n",
       "                                       layers: [base_tile]\n",
       "                                     });\n",
       "\n",
       "      L.control.layers(baseLayer, layer_list).addTo(map);\n",
       "\n",
       "      //cluster group\n",
       "      var clusteredmarkers = L.markerClusterGroup();\n",
       "      //section for adding clustered markers\n",
       "      \n",
       "      //add the clustered markers to the group anyway\n",
       "      map.addLayer(clusteredmarkers);\n",
       "\n",
       "      \n",
       "      var marker_1_icon = L.AwesomeMarkers.icon({ icon: 'info-sign',markerColor: 'blue',prefix: 'glyphicon',extraClasses: 'fa-rotate-0'});\n",
       "      var marker_1 = L.marker([40.441326000000004, \n",
       "\t\t\t\t\t\t\t-80.00467900000001],\n",
       "\t\t\t\t\t\t\t{'icon':marker_1_icon}\n",
       "\t\t\t\t\t\t\t);\n",
       "      marker_1.bindPopup(&quot;Liberty Ave & Stanwix St&quot;);\n",
       "      marker_1._popup.options.maxWidth = 300;\n",
       "      map.addLayer(marker_1)\n",
       "      \n",
       "      var marker_2_icon = L.AwesomeMarkers.icon({ icon: 'info-sign',markerColor: 'blue',prefix: 'glyphicon',extraClasses: 'fa-rotate-0'});\n",
       "      var marker_2 = L.marker([40.440877, \n",
       "\t\t\t\t\t\t\t-80.00308000000001],\n",
       "\t\t\t\t\t\t\t{'icon':marker_2_icon}\n",
       "\t\t\t\t\t\t\t);\n",
       "      marker_2.bindPopup(&quot;Forbes Ave & Market Square&quot;);\n",
       "      marker_2._popup.options.maxWidth = 300;\n",
       "      map.addLayer(marker_2)\n",
       "      \n",
       "      var marker_3_icon = L.AwesomeMarkers.icon({ icon: 'info-sign',markerColor: 'blue',prefix: 'glyphicon',extraClasses: 'fa-rotate-0'});\n",
       "      var marker_3 = L.marker([40.439029999999995, \n",
       "\t\t\t\t\t\t\t-80.00186],\n",
       "\t\t\t\t\t\t\t{'icon':marker_3_icon}\n",
       "\t\t\t\t\t\t\t);\n",
       "      marker_3.bindPopup(&quot;Third Ave & Wood St&quot;);\n",
       "      marker_3._popup.options.maxWidth = 300;\n",
       "      map.addLayer(marker_3)\n",
       "      \n",
       "      var marker_4_icon = L.AwesomeMarkers.icon({ icon: 'info-sign',markerColor: 'blue',prefix: 'glyphicon',extraClasses: 'fa-rotate-0'});\n",
       "      var marker_4 = L.marker([40.4372, \n",
       "\t\t\t\t\t\t\t-80.000375],\n",
       "\t\t\t\t\t\t\t{'icon':marker_4_icon}\n",
       "\t\t\t\t\t\t\t);\n",
       "      marker_4.bindPopup(&quot;First Ave & Smithfield St (Art Institute)&quot;);\n",
       "      marker_4._popup.options.maxWidth = 300;\n",
       "      map.addLayer(marker_4)\n",
       "      \n",
       "      var marker_5_icon = L.AwesomeMarkers.icon({ icon: 'info-sign',markerColor: 'blue',prefix: 'glyphicon',extraClasses: 'fa-rotate-0'});\n",
       "      var marker_5 = L.marker([40.435887, \n",
       "\t\t\t\t\t\t\t-79.997102],\n",
       "\t\t\t\t\t\t\t{'icon':marker_5_icon}\n",
       "\t\t\t\t\t\t\t);\n",
       "      marker_5.bindPopup(&quot;First Ave & B St (T Station)&quot;);\n",
       "      marker_5._popup.options.maxWidth = 300;\n",
       "      map.addLayer(marker_5)\n",
       "      \n",
       "      var marker_6_icon = L.AwesomeMarkers.icon({ icon: 'info-sign',markerColor: 'blue',prefix: 'glyphicon',extraClasses: 'fa-rotate-0'});\n",
       "      var marker_6 = L.marker([40.438882, \n",
       "\t\t\t\t\t\t\t-79.997592],\n",
       "\t\t\t\t\t\t\t{'icon':marker_6_icon}\n",
       "\t\t\t\t\t\t\t);\n",
       "      marker_6.bindPopup(&quot;Forbes Ave & Grant St&quot;);\n",
       "      marker_6._popup.options.maxWidth = 300;\n",
       "      map.addLayer(marker_6)\n",
       "      \n",
       "      var marker_7_icon = L.AwesomeMarkers.icon({ icon: 'info-sign',markerColor: 'blue',prefix: 'glyphicon',extraClasses: 'fa-rotate-0'});\n",
       "      var marker_7 = L.marker([40.440193, \n",
       "\t\t\t\t\t\t\t-79.99508399999999],\n",
       "\t\t\t\t\t\t\t{'icon':marker_7_icon}\n",
       "\t\t\t\t\t\t\t);\n",
       "      marker_7.bindPopup(&quot;Ross St & Sixth Ave (Steel Plaza T Station)&quot;);\n",
       "      marker_7._popup.options.maxWidth = 300;\n",
       "      map.addLayer(marker_7)\n",
       "      \n",
       "      var marker_8_icon = L.AwesomeMarkers.icon({ icon: 'info-sign',markerColor: 'blue',prefix: 'glyphicon',extraClasses: 'fa-rotate-0'});\n",
       "      var marker_8 = L.marker([40.437643, \n",
       "\t\t\t\t\t\t\t-79.986695],\n",
       "\t\t\t\t\t\t\t{'icon':marker_8_icon}\n",
       "\t\t\t\t\t\t\t);\n",
       "      marker_8.bindPopup(&quot;Stevenson St & Forbes Ave&quot;);\n",
       "      marker_8._popup.options.maxWidth = 300;\n",
       "      map.addLayer(marker_8)\n",
       "      \n",
       "      var marker_9_icon = L.AwesomeMarkers.icon({ icon: 'info-sign',markerColor: 'blue',prefix: 'glyphicon',extraClasses: 'fa-rotate-0'});\n",
       "      var marker_9 = L.marker([40.440368, \n",
       "\t\t\t\t\t\t\t-79.988636],\n",
       "\t\t\t\t\t\t\t{'icon':marker_9_icon}\n",
       "\t\t\t\t\t\t\t);\n",
       "      marker_9.bindPopup(&quot;Centre Ave & PPG Paints Arena&quot;);\n",
       "      marker_9._popup.options.maxWidth = 300;\n",
       "      map.addLayer(marker_9)\n",
       "      \n",
       "      var marker_10_icon = L.AwesomeMarkers.icon({ icon: 'info-sign',markerColor: 'blue',prefix: 'glyphicon',extraClasses: 'fa-rotate-0'});\n",
       "      var marker_10 = L.marker([40.445844, \n",
       "\t\t\t\t\t\t\t-79.99238000000001],\n",
       "\t\t\t\t\t\t\t{'icon':marker_10_icon}\n",
       "\t\t\t\t\t\t\t);\n",
       "      marker_10.bindPopup(&quot;12th St & Penn Ave&quot;);\n",
       "      marker_10._popup.options.maxWidth = 300;\n",
       "      map.addLayer(marker_10)\n",
       "      \n",
       "      var marker_11_icon = L.AwesomeMarkers.icon({ icon: 'info-sign',markerColor: 'blue',prefix: 'glyphicon',extraClasses: 'fa-rotate-0'});\n",
       "      var marker_11 = L.marker([40.444665, \n",
       "\t\t\t\t\t\t\t-79.995798],\n",
       "\t\t\t\t\t\t\t{'icon':marker_11_icon}\n",
       "\t\t\t\t\t\t\t);\n",
       "      marker_11.bindPopup(&quot;10th St & Penn Ave (David L. Lawrence Convention Center)&quot;);\n",
       "      marker_11._popup.options.maxWidth = 300;\n",
       "      map.addLayer(marker_11)\n",
       "      \n",
       "      var marker_12_icon = L.AwesomeMarkers.icon({ icon: 'info-sign',markerColor: 'blue',prefix: 'glyphicon',extraClasses: 'fa-rotate-0'});\n",
       "      var marker_12 = L.marker([40.444777, \n",
       "\t\t\t\t\t\t\t-80.000831],\n",
       "\t\t\t\t\t\t\t{'icon':marker_12_icon}\n",
       "\t\t\t\t\t\t\t);\n",
       "      marker_12.bindPopup(&quot;Fort Duquesne Blvd & 7th&quot;);\n",
       "      marker_12._popup.options.maxWidth = 300;\n",
       "      map.addLayer(marker_12)\n",
       "      \n",
       "      var marker_13_icon = L.AwesomeMarkers.icon({ icon: 'info-sign',markerColor: 'blue',prefix: 'glyphicon',extraClasses: 'fa-rotate-0'});\n",
       "      var marker_13 = L.marker([40.445834000000005, \n",
       "\t\t\t\t\t\t\t-80.008882],\n",
       "\t\t\t\t\t\t\t{'icon':marker_13_icon}\n",
       "\t\t\t\t\t\t\t);\n",
       "      marker_13.bindPopup(&quot;North Shore Trail & Ft Duquesne Bridge&quot;);\n",
       "      marker_13._popup.options.maxWidth = 300;\n",
       "      map.addLayer(marker_13)\n",
       "      \n",
       "      var marker_14_icon = L.AwesomeMarkers.icon({ icon: 'info-sign',markerColor: 'blue',prefix: 'glyphicon',extraClasses: 'fa-rotate-0'});\n",
       "      var marker_14 = L.marker([40.447165999999996, \n",
       "\t\t\t\t\t\t\t-80.003566],\n",
       "\t\t\t\t\t\t\t{'icon':marker_14_icon}\n",
       "\t\t\t\t\t\t\t);\n",
       "      marker_14.bindPopup(&quot;Isabella St & Federal St (PNC Park)&quot;);\n",
       "      marker_14._popup.options.maxWidth = 300;\n",
       "      map.addLayer(marker_14)\n",
       "      \n",
       "      var marker_15_icon = L.AwesomeMarkers.icon({ icon: 'info-sign',markerColor: 'blue',prefix: 'glyphicon',extraClasses: 'fa-rotate-0'});\n",
       "      var marker_15 = L.marker([40.450595, \n",
       "\t\t\t\t\t\t\t-80.013204],\n",
       "\t\t\t\t\t\t\t{'icon':marker_15_icon}\n",
       "\t\t\t\t\t\t\t);\n",
       "      marker_15.bindPopup(&quot;Ridge Ave & Brighton Rd (CCAC)&quot;);\n",
       "      marker_15._popup.options.maxWidth = 300;\n",
       "      map.addLayer(marker_15)\n",
       "      \n",
       "      var marker_16_icon = L.AwesomeMarkers.icon({ icon: 'info-sign',markerColor: 'blue',prefix: 'glyphicon',extraClasses: 'fa-rotate-0'});\n",
       "      var marker_16 = L.marker([40.45509087, \n",
       "\t\t\t\t\t\t\t-80.00634670000001],\n",
       "\t\t\t\t\t\t\t{'icon':marker_16_icon}\n",
       "\t\t\t\t\t\t\t);\n",
       "      marker_16.bindPopup(&quot;Federal St & E North Ave&quot;);\n",
       "      marker_16._popup.options.maxWidth = 300;\n",
       "      map.addLayer(marker_16)\n",
       "      \n",
       "      var marker_17_icon = L.AwesomeMarkers.icon({ icon: 'info-sign',markerColor: 'blue',prefix: 'glyphicon',extraClasses: 'fa-rotate-0'});\n",
       "      var marker_17 = L.marker([40.449631, \n",
       "\t\t\t\t\t\t\t-79.985893],\n",
       "\t\t\t\t\t\t\t{'icon':marker_17_icon}\n",
       "\t\t\t\t\t\t\t);\n",
       "      marker_17.bindPopup(&quot;17th St & Penn Ave&quot;);\n",
       "      marker_17._popup.options.maxWidth = 300;\n",
       "      map.addLayer(marker_17)\n",
       "      \n",
       "      var marker_18_icon = L.AwesomeMarkers.icon({ icon: 'info-sign',markerColor: 'blue',prefix: 'glyphicon',extraClasses: 'fa-rotate-0'});\n",
       "      var marker_18 = L.marker([40.451741999999996, \n",
       "\t\t\t\t\t\t\t-79.98321700000001],\n",
       "\t\t\t\t\t\t\t{'icon':marker_18_icon}\n",
       "\t\t\t\t\t\t\t);\n",
       "      marker_18.bindPopup(&quot;21st St & Penn Ave&quot;);\n",
       "      marker_18._popup.options.maxWidth = 300;\n",
       "      map.addLayer(marker_18)\n",
       "      \n",
       "      var marker_19_icon = L.AwesomeMarkers.icon({ icon: 'info-sign',markerColor: 'blue',prefix: 'glyphicon',extraClasses: 'fa-rotate-0'});\n",
       "      var marker_19 = L.marker([40.466103000000004, \n",
       "\t\t\t\t\t\t\t-79.964628],\n",
       "\t\t\t\t\t\t\t{'icon':marker_19_icon}\n",
       "\t\t\t\t\t\t\t);\n",
       "      marker_19.bindPopup(&quot;37th St & Butler St&quot;);\n",
       "      marker_19._popup.options.maxWidth = 300;\n",
       "      map.addLayer(marker_19)\n",
       "      \n",
       "      var marker_20_icon = L.AwesomeMarkers.icon({ icon: 'info-sign',markerColor: 'blue',prefix: 'glyphicon',extraClasses: 'fa-rotate-0'});\n",
       "      var marker_20 = L.marker([40.47021248, \n",
       "\t\t\t\t\t\t\t-79.96066332],\n",
       "\t\t\t\t\t\t\t{'icon':marker_20_icon}\n",
       "\t\t\t\t\t\t\t);\n",
       "      marker_20.bindPopup(&quot;42nd St & Butler St&quot;);\n",
       "      marker_20._popup.options.maxWidth = 300;\n",
       "      map.addLayer(marker_20)\n",
       "      \n",
       "      var marker_21_icon = L.AwesomeMarkers.icon({ icon: 'info-sign',markerColor: 'blue',prefix: 'glyphicon',extraClasses: 'fa-rotate-0'});\n",
       "      var marker_21 = L.marker([40.465893, \n",
       "\t\t\t\t\t\t\t-79.954417],\n",
       "\t\t\t\t\t\t\t{'icon':marker_21_icon}\n",
       "\t\t\t\t\t\t\t);\n",
       "      marker_21.bindPopup(&quot;42nd St & Penn Ave (Children's Hospital)&quot;);\n",
       "      marker_21._popup.options.maxWidth = 300;\n",
       "      map.addLayer(marker_21)\n",
       "      \n",
       "      var marker_22_icon = L.AwesomeMarkers.icon({ icon: 'info-sign',markerColor: 'blue',prefix: 'glyphicon',extraClasses: 'fa-rotate-0'});\n",
       "      var marker_22 = L.marker([40.462769, \n",
       "\t\t\t\t\t\t\t-79.950867],\n",
       "\t\t\t\t\t\t\t{'icon':marker_22_icon}\n",
       "\t\t\t\t\t\t\t);\n",
       "      marker_22.bindPopup(&quot;Taylor St & Liberty Ave&quot;);\n",
       "      marker_22._popup.options.maxWidth = 300;\n",
       "      map.addLayer(marker_22)\n",
       "      \n",
       "      var marker_23_icon = L.AwesomeMarkers.icon({ icon: 'info-sign',markerColor: 'blue',prefix: 'glyphicon',extraClasses: 'fa-rotate-0'});\n",
       "      var marker_23 = L.marker([40.459812, \n",
       "\t\t\t\t\t\t\t-79.945548],\n",
       "\t\t\t\t\t\t\t{'icon':marker_23_icon}\n",
       "\t\t\t\t\t\t\t);\n",
       "      marker_23.bindPopup(&quot;Liberty Ave & S Millvale (West Penn Hospital)&quot;);\n",
       "      marker_23._popup.options.maxWidth = 300;\n",
       "      map.addLayer(marker_23)\n",
       "      \n",
       "      var marker_24_icon = L.AwesomeMarkers.icon({ icon: 'info-sign',markerColor: 'blue',prefix: 'glyphicon',extraClasses: 'fa-rotate-0'});\n",
       "      var marker_24 = L.marker([40.456505, \n",
       "\t\t\t\t\t\t\t-79.939362],\n",
       "\t\t\t\t\t\t\t{'icon':marker_24_icon}\n",
       "\t\t\t\t\t\t\t);\n",
       "      marker_24.bindPopup(&quot;Liberty Ave & Baum Blvd&quot;);\n",
       "      marker_24._popup.options.maxWidth = 300;\n",
       "      map.addLayer(marker_24)\n",
       "      \n",
       "      var marker_25_icon = L.AwesomeMarkers.icon({ icon: 'info-sign',markerColor: 'blue',prefix: 'glyphicon',extraClasses: 'fa-rotate-0'});\n",
       "      var marker_25 = L.marker([40.458714, \n",
       "\t\t\t\t\t\t\t-79.933483],\n",
       "\t\t\t\t\t\t\t{'icon':marker_25_icon}\n",
       "\t\t\t\t\t\t\t);\n",
       "      marker_25.bindPopup(&quot;S Negley Ave & Baum Blvd&quot;);\n",
       "      marker_25._popup.options.maxWidth = 300;\n",
       "      map.addLayer(marker_25)\n",
       "      \n",
       "      var marker_26_icon = L.AwesomeMarkers.icon({ icon: 'info-sign',markerColor: 'blue',prefix: 'glyphicon',extraClasses: 'fa-rotate-0'});\n",
       "      var marker_26 = L.marker([40.464443, \n",
       "\t\t\t\t\t\t\t-79.933188],\n",
       "\t\t\t\t\t\t\t{'icon':marker_26_icon}\n",
       "\t\t\t\t\t\t\t);\n",
       "      marker_26.bindPopup(&quot;Penn Ave & N Fairmount St&quot;);\n",
       "      marker_26._popup.options.maxWidth = 300;\n",
       "      map.addLayer(marker_26)\n",
       "      \n",
       "      var marker_27_icon = L.AwesomeMarkers.icon({ icon: 'info-sign',markerColor: 'blue',prefix: 'glyphicon',extraClasses: 'fa-rotate-0'});\n",
       "      var marker_27 = L.marker([40.461603000000004, \n",
       "\t\t\t\t\t\t\t-79.925624],\n",
       "\t\t\t\t\t\t\t{'icon':marker_27_icon}\n",
       "\t\t\t\t\t\t\t);\n",
       "      marker_27.bindPopup(&quot;Penn Ave & S Whitfield St&quot;);\n",
       "      marker_27._popup.options.maxWidth = 300;\n",
       "      map.addLayer(marker_27)\n",
       "      \n",
       "      var marker_28_icon = L.AwesomeMarkers.icon({ icon: 'info-sign',markerColor: 'blue',prefix: 'glyphicon',extraClasses: 'fa-rotate-0'});\n",
       "      var marker_28 = L.marker([40.458971999999996, \n",
       "\t\t\t\t\t\t\t-79.922023],\n",
       "\t\t\t\t\t\t\t{'icon':marker_28_icon}\n",
       "\t\t\t\t\t\t\t);\n",
       "      marker_28.bindPopup(&quot;Shady Ave & Ellsworth Ave&quot;);\n",
       "      marker_28._popup.options.maxWidth = 300;\n",
       "      map.addLayer(marker_28)\n",
       "      \n",
       "      var marker_29_icon = L.AwesomeMarkers.icon({ icon: 'info-sign',markerColor: 'blue',prefix: 'glyphicon',extraClasses: 'fa-rotate-0'});\n",
       "      var marker_29 = L.marker([40.455821, \n",
       "\t\t\t\t\t\t\t-79.91524799999999],\n",
       "\t\t\t\t\t\t\t{'icon':marker_29_icon}\n",
       "\t\t\t\t\t\t\t);\n",
       "      marker_29.bindPopup(&quot;Penn Ave & Putnam St (Bakery Square)&quot;);\n",
       "      marker_29._popup.options.maxWidth = 300;\n",
       "      map.addLayer(marker_29)\n",
       "      \n",
       "      var marker_30_icon = L.AwesomeMarkers.icon({ icon: 'info-sign',markerColor: 'blue',prefix: 'glyphicon',extraClasses: 'fa-rotate-0'});\n",
       "      var marker_30 = L.marker([40.457415000000005, \n",
       "\t\t\t\t\t\t\t-79.92492],\n",
       "\t\t\t\t\t\t\t{'icon':marker_30_icon}\n",
       "\t\t\t\t\t\t\t);\n",
       "      marker_30.bindPopup(&quot;Alder St & S Higland Ave&quot;);\n",
       "      marker_30._popup.options.maxWidth = 300;\n",
       "      map.addLayer(marker_30)\n",
       "      \n",
       "      var marker_31_icon = L.AwesomeMarkers.icon({ icon: 'info-sign',markerColor: 'blue',prefix: 'glyphicon',extraClasses: 'fa-rotate-0'});\n",
       "      var marker_31 = L.marker([40.458933, \n",
       "\t\t\t\t\t\t\t-79.929123],\n",
       "\t\t\t\t\t\t\t{'icon':marker_31_icon}\n",
       "\t\t\t\t\t\t\t);\n",
       "      marker_31.bindPopup(&quot;S Euclid Ave & Centre Ave&quot;);\n",
       "      marker_31._popup.options.maxWidth = 300;\n",
       "      map.addLayer(marker_31)\n",
       "      \n",
       "      var marker_32_icon = L.AwesomeMarkers.icon({ icon: 'info-sign',markerColor: 'blue',prefix: 'glyphicon',extraClasses: 'fa-rotate-0'});\n",
       "      var marker_32 = L.marker([40.45628, \n",
       "\t\t\t\t\t\t\t-79.930962],\n",
       "\t\t\t\t\t\t\t{'icon':marker_32_icon}\n",
       "\t\t\t\t\t\t\t);\n",
       "      marker_32.bindPopup(&quot;Maryland Ave & Ellsworth Ave&quot;);\n",
       "      marker_32._popup.options.maxWidth = 300;\n",
       "      map.addLayer(marker_32)\n",
       "      \n",
       "      var marker_33_icon = L.AwesomeMarkers.icon({ icon: 'info-sign',markerColor: 'blue',prefix: 'glyphicon',extraClasses: 'fa-rotate-0'});\n",
       "      var marker_33 = L.marker([40.453382, \n",
       "\t\t\t\t\t\t\t-79.92730999999999],\n",
       "\t\t\t\t\t\t\t{'icon':marker_33_icon}\n",
       "\t\t\t\t\t\t\t);\n",
       "      marker_33.bindPopup(&quot;Walnut St & College St&quot;);\n",
       "      marker_33._popup.options.maxWidth = 300;\n",
       "      map.addLayer(marker_33)\n",
       "      \n",
       "      var marker_34_icon = L.AwesomeMarkers.icon({ icon: 'info-sign',markerColor: 'blue',prefix: 'glyphicon',extraClasses: 'fa-rotate-0'});\n",
       "      var marker_34 = L.marker([40.45177, \n",
       "\t\t\t\t\t\t\t-79.932324],\n",
       "\t\t\t\t\t\t\t{'icon':marker_34_icon}\n",
       "\t\t\t\t\t\t\t);\n",
       "      marker_34.bindPopup(&quot;Ivy St & Walnut St&quot;);\n",
       "      marker_34._popup.options.maxWidth = 300;\n",
       "      map.addLayer(marker_34)\n",
       "      \n",
       "      var marker_35_icon = L.AwesomeMarkers.icon({ icon: 'info-sign',markerColor: 'blue',prefix: 'glyphicon',extraClasses: 'fa-rotate-0'});\n",
       "      var marker_35 = L.marker([40.448419, \n",
       "\t\t\t\t\t\t\t-79.947401],\n",
       "\t\t\t\t\t\t\t{'icon':marker_35_icon}\n",
       "\t\t\t\t\t\t\t);\n",
       "      marker_35.bindPopup(&quot;Ellsworth Ave & N Neville St&quot;);\n",
       "      marker_35._popup.options.maxWidth = 300;\n",
       "      map.addLayer(marker_35)\n",
       "      \n",
       "      var marker_36_icon = L.AwesomeMarkers.icon({ icon: 'info-sign',markerColor: 'blue',prefix: 'glyphicon',extraClasses: 'fa-rotate-0'});\n",
       "      var marker_36 = L.marker([40.446744, \n",
       "\t\t\t\t\t\t\t-79.95088100000001],\n",
       "\t\t\t\t\t\t\t{'icon':marker_36_icon}\n",
       "\t\t\t\t\t\t\t);\n",
       "      marker_36.bindPopup(&quot;Fifth Ave & S Dithridge St&quot;);\n",
       "      marker_36._popup.options.maxWidth = 300;\n",
       "      map.addLayer(marker_36)\n",
       "      \n",
       "      var marker_37_icon = L.AwesomeMarkers.icon({ icon: 'info-sign',markerColor: 'blue',prefix: 'glyphicon',extraClasses: 'fa-rotate-0'});\n",
       "      var marker_37 = L.marker([40.442398, \n",
       "\t\t\t\t\t\t\t-79.951479],\n",
       "\t\t\t\t\t\t\t{'icon':marker_37_icon}\n",
       "\t\t\t\t\t\t\t);\n",
       "      marker_37.bindPopup(&quot;Schenley Dr at Schenley Plaza (Carnegie Library Main)&quot;);\n",
       "      marker_37._popup.options.maxWidth = 300;\n",
       "      map.addLayer(marker_37)\n",
       "      \n",
       "      var marker_38_icon = L.AwesomeMarkers.icon({ icon: 'info-sign',markerColor: 'blue',prefix: 'glyphicon',extraClasses: 'fa-rotate-0'});\n",
       "      var marker_38 = L.marker([40.441032, \n",
       "\t\t\t\t\t\t\t-79.948042],\n",
       "\t\t\t\t\t\t\t{'icon':marker_38_icon}\n",
       "\t\t\t\t\t\t\t);\n",
       "      marker_38.bindPopup(&quot;Frew St & Schenley Dr&quot;);\n",
       "      marker_38._popup.options.maxWidth = 300;\n",
       "      map.addLayer(marker_38)\n",
       "      \n",
       "      var marker_39_icon = L.AwesomeMarkers.icon({ icon: 'info-sign',markerColor: 'blue',prefix: 'glyphicon',extraClasses: 'fa-rotate-0'});\n",
       "      var marker_39 = L.marker([40.434338000000004, \n",
       "\t\t\t\t\t\t\t-79.951877],\n",
       "\t\t\t\t\t\t\t{'icon':marker_39_icon}\n",
       "\t\t\t\t\t\t\t);\n",
       "      marker_39.bindPopup(&quot;Boulevard of the Allies & Parkview Ave&quot;);\n",
       "      marker_39._popup.options.maxWidth = 300;\n",
       "      map.addLayer(marker_39)\n",
       "      \n",
       "      var marker_40_icon = L.AwesomeMarkers.icon({ icon: 'info-sign',markerColor: 'blue',prefix: 'glyphicon',extraClasses: 'fa-rotate-0'});\n",
       "      var marker_40 = L.marker([40.437987, \n",
       "\t\t\t\t\t\t\t-79.95366999999999],\n",
       "\t\t\t\t\t\t\t{'icon':marker_40_icon}\n",
       "\t\t\t\t\t\t\t);\n",
       "      marker_40.bindPopup(&quot;Atwood St & Bates&quot;);\n",
       "      marker_40._popup.options.maxWidth = 300;\n",
       "      map.addLayer(marker_40)\n",
       "      \n",
       "      var marker_41_icon = L.AwesomeMarkers.icon({ icon: 'info-sign',markerColor: 'blue',prefix: 'glyphicon',extraClasses: 'fa-rotate-0'});\n",
       "      var marker_41 = L.marker([40.445128000000004, \n",
       "\t\t\t\t\t\t\t-79.957102],\n",
       "\t\t\t\t\t\t\t{'icon':marker_41_icon}\n",
       "\t\t\t\t\t\t\t);\n",
       "      marker_41.bindPopup(&quot;O'Hara St and University Place (Soldiers and Sailors Memorial)&quot;);\n",
       "      marker_41._popup.options.maxWidth = 300;\n",
       "      map.addLayer(marker_41)\n",
       "      \n",
       "      var marker_42_icon = L.AwesomeMarkers.icon({ icon: 'info-sign',markerColor: 'blue',prefix: 'glyphicon',extraClasses: 'fa-rotate-0'});\n",
       "      var marker_42 = L.marker([40.442325, \n",
       "\t\t\t\t\t\t\t-79.957604],\n",
       "\t\t\t\t\t\t\t{'icon':marker_42_icon}\n",
       "\t\t\t\t\t\t\t);\n",
       "      marker_42.bindPopup(&quot;Fifth Ave & S Bouquet St&quot;);\n",
       "      marker_42._popup.options.maxWidth = 300;\n",
       "      map.addLayer(marker_42)\n",
       "      \n",
       "      var marker_43_icon = L.AwesomeMarkers.icon({ icon: 'info-sign',markerColor: 'blue',prefix: 'glyphicon',extraClasses: 'fa-rotate-0'});\n",
       "      var marker_43 = L.marker([40.445236, \n",
       "\t\t\t\t\t\t\t-79.976911],\n",
       "\t\t\t\t\t\t\t{'icon':marker_43_icon}\n",
       "\t\t\t\t\t\t\t);\n",
       "      marker_43.bindPopup(&quot;Centre Ave & Kirkpatrick St&quot;);\n",
       "      marker_43._popup.options.maxWidth = 300;\n",
       "      map.addLayer(marker_43)\n",
       "      \n",
       "      var marker_44_icon = L.AwesomeMarkers.icon({ icon: 'info-sign',markerColor: 'blue',prefix: 'glyphicon',extraClasses: 'fa-rotate-0'});\n",
       "      var marker_44 = L.marker([40.438876, \n",
       "\t\t\t\t\t\t\t-79.96017900000001],\n",
       "\t\t\t\t\t\t\t{'icon':marker_44_icon}\n",
       "\t\t\t\t\t\t\t);\n",
       "      marker_44.bindPopup(&quot;Coltart Ave & Forbes Ave&quot;);\n",
       "      marker_44._popup.options.maxWidth = 300;\n",
       "      map.addLayer(marker_44)\n",
       "      \n",
       "      var marker_45_icon = L.AwesomeMarkers.icon({ icon: 'info-sign',markerColor: 'blue',prefix: 'glyphicon',extraClasses: 'fa-rotate-0'});\n",
       "      var marker_45 = L.marker([40.435986, \n",
       "\t\t\t\t\t\t\t-79.956942],\n",
       "\t\t\t\t\t\t\t{'icon':marker_45_icon}\n",
       "\t\t\t\t\t\t\t);\n",
       "      marker_45.bindPopup(&quot;Zulema St & Coltart Ave&quot;);\n",
       "      marker_45._popup.options.maxWidth = 300;\n",
       "      map.addLayer(marker_45)\n",
       "      \n",
       "      var marker_46_icon = L.AwesomeMarkers.icon({ icon: 'info-sign',markerColor: 'blue',prefix: 'glyphicon',extraClasses: 'fa-rotate-0'});\n",
       "      var marker_46 = L.marker([40.427899, \n",
       "\t\t\t\t\t\t\t-79.966112],\n",
       "\t\t\t\t\t\t\t{'icon':marker_46_icon}\n",
       "\t\t\t\t\t\t\t);\n",
       "      marker_46.bindPopup(&quot;S 27th St & Sidney St. (Southside Works)&quot;);\n",
       "      marker_46._popup.options.maxWidth = 300;\n",
       "      map.addLayer(marker_46)\n",
       "      \n",
       "      var marker_47_icon = L.AwesomeMarkers.icon({ icon: 'info-sign',markerColor: 'blue',prefix: 'glyphicon',extraClasses: 'fa-rotate-0'});\n",
       "      var marker_47 = L.marker([40.428020000000004, \n",
       "\t\t\t\t\t\t\t-79.969799],\n",
       "\t\t\t\t\t\t\t{'icon':marker_47_icon}\n",
       "\t\t\t\t\t\t\t);\n",
       "      marker_47.bindPopup(&quot;S 25th St & E Carson St&quot;);\n",
       "      marker_47._popup.options.maxWidth = 300;\n",
       "      map.addLayer(marker_47)\n",
       "      \n",
       "      var marker_48_icon = L.AwesomeMarkers.icon({ icon: 'info-sign',markerColor: 'blue',prefix: 'glyphicon',extraClasses: 'fa-rotate-0'});\n",
       "      var marker_48 = L.marker([40.428576, \n",
       "\t\t\t\t\t\t\t-79.974559],\n",
       "\t\t\t\t\t\t\t{'icon':marker_48_icon}\n",
       "\t\t\t\t\t\t\t);\n",
       "      marker_48.bindPopup(&quot;S 22nd St & E Carson St&quot;);\n",
       "      marker_48._popup.options.maxWidth = 300;\n",
       "      map.addLayer(marker_48)\n",
       "      \n",
       "      var marker_49_icon = L.AwesomeMarkers.icon({ icon: 'info-sign',markerColor: 'blue',prefix: 'glyphicon',extraClasses: 'fa-rotate-0'});\n",
       "      var marker_49 = L.marker([40.429338, \n",
       "\t\t\t\t\t\t\t-79.980684],\n",
       "\t\t\t\t\t\t\t{'icon':marker_49_icon}\n",
       "\t\t\t\t\t\t\t);\n",
       "      marker_49.bindPopup(&quot;S 18th St & Sidney St&quot;);\n",
       "      marker_49._popup.options.maxWidth = 300;\n",
       "      map.addLayer(marker_49)\n",
       "      \n",
       "      var marker_50_icon = L.AwesomeMarkers.icon({ icon: 'info-sign',markerColor: 'blue',prefix: 'glyphicon',extraClasses: 'fa-rotate-0'});\n",
       "      var marker_50 = L.marker([40.428661, \n",
       "\t\t\t\t\t\t\t-79.986358],\n",
       "\t\t\t\t\t\t\t{'icon':marker_50_icon}\n",
       "\t\t\t\t\t\t\t);\n",
       "      marker_50.bindPopup(&quot;S 12th St & E Carson St&quot;);\n",
       "      marker_50._popup.options.maxWidth = 300;\n",
       "      map.addLayer(marker_50)\n",
       "      \n",
       "      var marker_51_icon = L.AwesomeMarkers.icon({ icon: 'info-sign',markerColor: 'blue',prefix: 'glyphicon',extraClasses: 'fa-rotate-0'});\n",
       "      var marker_51 = L.marker([40.46181745, \n",
       "\t\t\t\t\t\t\t-79.96800184],\n",
       "\t\t\t\t\t\t\t{'icon':marker_51_icon}\n",
       "\t\t\t\t\t\t\t);\n",
       "      marker_51.bindPopup(&quot;Healthy Ride Hub&quot;);\n",
       "      marker_51._popup.options.maxWidth = 300;\n",
       "      map.addLayer(marker_51)\n",
       "      \n",
       "      var marker_52_icon = L.AwesomeMarkers.icon({ icon: 'info-sign',markerColor: 'blue',prefix: 'glyphicon',extraClasses: 'fa-rotate-0'});\n",
       "      var marker_52 = L.marker([40.4620256, \n",
       "\t\t\t\t\t\t\t-79.9681145],\n",
       "\t\t\t\t\t\t\t{'icon':marker_52_icon}\n",
       "\t\t\t\t\t\t\t);\n",
       "      marker_52.bindPopup(&quot;33rd St and Penn Ave&quot;);\n",
       "      marker_52._popup.options.maxWidth = 300;\n",
       "      map.addLayer(marker_52)\n",
       "      \n",
       "\n",
       "      \n",
       "\n",
       "      \n",
       "\n",
       "      \n",
       "\n",
       "      \n",
       "\n",
       "      \n",
       "\n",
       "\n",
       "\n",
       "   </script>\n",
       "\n",
       "</body>\" style=\"width: 960px; height: 500px\"; border: none\"></iframe>"
      ],
      "text/plain": [
       "<datascience.maps.Map at 0x1023fcef0>"
      ]
     },
     "execution_count": 5,
     "metadata": {},
     "output_type": "execute_result"
    }
   ],
   "source": [
    "Marker.map_table(Stations_2017.select(3, 4, 1))"
   ]
  },
  {
   "cell_type": "markdown",
   "metadata": {},
   "source": [
    "Then, we can create a new table called `start_stop_combinations` using the function `pivot` which will create a table with the counts for each of the combinations of start and stop stations."
   ]
  },
  {
   "cell_type": "code",
   "execution_count": 6,
   "metadata": {
    "scrolled": true
   },
   "outputs": [
    {
     "data": {
      "text/html": [
       "<table border=\"1\" class=\"dataframe\">\n",
       "    <thead>\n",
       "        <tr>\n",
       "            <th>To station name</th> <th>10th St & Penn Ave (David L. Lawrence Convention Center)</th> <th>12th St & Penn Ave</th> <th>17th St & Penn Ave</th> <th>21st St & Penn Ave</th> <th>33rd St and Penn Ave</th> <th>42nd & Penn Ave.</th> <th>42nd St & Butler St</th> <th>ASCEND Pittsburgh</th> <th>Alder St & S Highland Ave</th> <th>Atwood St & Bates St</th> <th>Boulevard of the Allies & Parkview Ave</th> <th>Butler St & Stanton Ave</th> <th>Centre Ave & Kirkpatrick St</th> <th>Centre Ave & PPG Paints Arena</th> <th>EQT Plaza</th> <th>Ellsworth Ave & N Neville St</th> <th>Federal St & E North Ave</th> <th>Fifth Ave & S Bouquet St</th> <th>Fifth Ave & S Dithridge St</th> <th>First Ave & B St (T Station)</th> <th>First Ave & Smithfield St (Art Institute)</th> <th>Forbes Ave & Grant St</th> <th>Forbes Ave & Market Square</th> <th>Forbes and Gist (Open Streets May 2017)</th> <th>Fort Duquesne Blvd & 7th St</th> <th>Frew St & Schenley Dr</th> <th>Healthy Ride Hub</th> <th>Highmark Stadium</th> <th>Isabella St & Federal St (PNC Park)</th> <th>Ivy St & Walnut St   </th> <th>Liberty Ave & Baum Blvd</th> <th>Liberty Ave & S Millvale Ave (West Penn Hospital)</th> <th>Liberty Ave & Stanwix St</th> <th>Maryland Ave & Ellsworth Ave</th> <th>North Shore Trail & Fort Duquesne Bridge</th> <th>O'Hara St and University Place (Soldiers and Sailors Memorial)</th> <th>Penn Ave & N Fairmount St</th> <th>Penn Ave & Putnam St (Bakery Square)</th> <th>Penn Ave & S Whitfield St</th> <th>Ridge Ave & Brighton Rd (CCAC)</th> <th>Ross St & Sixth Ave (Steel Plaza T Station)</th> <th>S 12th St & E Carson St</th> <th>S 18th St & Sidney St</th> <th>S 22nd St & E Carson St</th> <th>S 25th St & E Carson St</th> <th>S 27th St & Sidney St. (Southside Works)</th> <th>S Euclid Ave & Centre Ave</th> <th>S Main St & Alexander St</th> <th>S Millvale Ave & Centre Ave</th> <th>S Negley Ave & Baum Blvd</th> <th>Schenley Dr at Schenley Plaza (Carnegie Library Main)</th> <th>Schenley Park Pool</th> <th>Shady Ave & Ellsworth Ave</th> <th>Stevenson St & Forbes Ave</th> <th>Taylor St & Liberty Ave</th> <th>Third Ave & Wood St</th> <th>Walnut St & College St</th> <th>Western Ave & Bidwell Street</th> <th>Zulema St & Coltart Ave</th>\n",
       "        </tr>\n",
       "    </thead>\n",
       "    <tbody>\n",
       "        <tr>\n",
       "            <td>10th St & Penn Ave (David L. Lawrence Convention Center)</td> <td>2336                                                    </td> <td>161               </td> <td>835               </td> <td>1040              </td> <td>47                  </td> <td>82              </td> <td>251                </td> <td>0                </td> <td>7                        </td> <td>8                   </td> <td>49                                    </td> <td>333                    </td> <td>12                         </td> <td>69                           </td> <td>1        </td> <td>10                          </td> <td>246                     </td> <td>26                      </td> <td>7                         </td> <td>55                          </td> <td>96                                       </td> <td>79                   </td> <td>387                       </td> <td>0                                      </td> <td>171                        </td> <td>9                    </td> <td>66              </td> <td>0               </td> <td>342                                </td> <td>58                   </td> <td>43                     </td> <td>92                                               </td> <td>407                     </td> <td>12                          </td> <td>258                                     </td> <td>12                                                            </td> <td>37                       </td> <td>12                                  </td> <td>8                        </td> <td>98                            </td> <td>83                                         </td> <td>102                    </td> <td>75                   </td> <td>56                     </td> <td>53                     </td> <td>112                                     </td> <td>7                        </td> <td>0                       </td> <td>17                         </td> <td>27                      </td> <td>20                                                   </td> <td>0                 </td> <td>6                        </td> <td>51                       </td> <td>161                    </td> <td>56                 </td> <td>100                   </td> <td>0                           </td> <td>21                     </td>\n",
       "        </tr>\n",
       "    </tbody>\n",
       "        <tr>\n",
       "            <td>12th St & Penn Ave                                      </td> <td>134                                                     </td> <td>978               </td> <td>100               </td> <td>163               </td> <td>19                  </td> <td>40              </td> <td>73                 </td> <td>0                </td> <td>5                        </td> <td>3                   </td> <td>4                                     </td> <td>45                     </td> <td>9                          </td> <td>24                           </td> <td>0        </td> <td>8                           </td> <td>50                      </td> <td>7                       </td> <td>4                         </td> <td>20                          </td> <td>38                                       </td> <td>38                   </td> <td>287                       </td> <td>0                                      </td> <td>43                         </td> <td>0                    </td> <td>26              </td> <td>0               </td> <td>145                                </td> <td>1                    </td> <td>7                      </td> <td>47                                               </td> <td>134                     </td> <td>3                           </td> <td>80                                      </td> <td>2                                                             </td> <td>13                       </td> <td>2                                   </td> <td>6                        </td> <td>4                             </td> <td>40                                         </td> <td>17                     </td> <td>16                   </td> <td>10                     </td> <td>10                     </td> <td>14                                      </td> <td>1                        </td> <td>0                       </td> <td>3                          </td> <td>2                       </td> <td>3                                                    </td> <td>0                 </td> <td>1                        </td> <td>13                       </td> <td>25                     </td> <td>24                 </td> <td>4                     </td> <td>0                           </td> <td>3                      </td>\n",
       "        </tr>\n",
       "    </tbody>\n",
       "        <tr>\n",
       "            <td>17th St & Penn Ave                                      </td> <td>721                                                     </td> <td>176               </td> <td>683               </td> <td>191               </td> <td>17                  </td> <td>65              </td> <td>167                </td> <td>0                </td> <td>4                        </td> <td>18                  </td> <td>4                                     </td> <td>99                     </td> <td>1                          </td> <td>88                           </td> <td>0        </td> <td>12                          </td> <td>141                     </td> <td>10                      </td> <td>9                         </td> <td>77                          </td> <td>219                                      </td> <td>101                  </td> <td>506                       </td> <td>0                                      </td> <td>162                        </td> <td>27                   </td> <td>19              </td> <td>0               </td> <td>219                                </td> <td>21                   </td> <td>27                     </td> <td>51                                               </td> <td>561                     </td> <td>61                          </td> <td>144                                     </td> <td>11                                                            </td> <td>20                       </td> <td>3                                   </td> <td>5                        </td> <td>57                            </td> <td>131                                        </td> <td>88                     </td> <td>81                   </td> <td>57                     </td> <td>60                     </td> <td>72                                      </td> <td>10                       </td> <td>0                       </td> <td>5                          </td> <td>28                      </td> <td>9                                                    </td> <td>0                 </td> <td>3                        </td> <td>46                       </td> <td>43                     </td> <td>72                 </td> <td>5                     </td> <td>1                           </td> <td>12                     </td>\n",
       "        </tr>\n",
       "    </tbody>\n",
       "        <tr>\n",
       "            <td>21st St & Penn Ave                                      </td> <td>1304                                                    </td> <td>335               </td> <td>139               </td> <td>1900              </td> <td>65                  </td> <td>107             </td> <td>479                </td> <td>0                </td> <td>30                       </td> <td>13                  </td> <td>3                                     </td> <td>375                    </td> <td>4                          </td> <td>67                           </td> <td>0        </td> <td>40                          </td> <td>122                     </td> <td>26                      </td> <td>23                        </td> <td>62                          </td> <td>113                                      </td> <td>131                  </td> <td>761                       </td> <td>0                                      </td> <td>395                        </td> <td>9                    </td> <td>97              </td> <td>0               </td> <td>456                                </td> <td>91                   </td> <td>77                     </td> <td>64                                               </td> <td>631                     </td> <td>35                          </td> <td>266                                     </td> <td>28                                                            </td> <td>43                       </td> <td>6                                   </td> <td>25                       </td> <td>103                           </td> <td>253                                        </td> <td>88                     </td> <td>49                   </td> <td>24                     </td> <td>52                     </td> <td>146                                     </td> <td>20                       </td> <td>0                       </td> <td>4                          </td> <td>20                      </td> <td>21                                                   </td> <td>0                 </td> <td>23                       </td> <td>57                       </td> <td>127                    </td> <td>85                 </td> <td>28                    </td> <td>0                           </td> <td>11                     </td>\n",
       "        </tr>\n",
       "    </tbody>\n",
       "        <tr>\n",
       "            <td>33rd St and Penn Ave                                    </td> <td>45                                                      </td> <td>9                 </td> <td>12                </td> <td>50                </td> <td>250                 </td> <td>14              </td> <td>25                 </td> <td>0                </td> <td>1                        </td> <td>0                   </td> <td>0                                     </td> <td>23                     </td> <td>0                          </td> <td>3                            </td> <td>0        </td> <td>3                           </td> <td>12                      </td> <td>1                       </td> <td>1                         </td> <td>4                           </td> <td>6                                        </td> <td>7                    </td> <td>25                        </td> <td>0                                      </td> <td>18                         </td> <td>1                    </td> <td>68              </td> <td>0               </td> <td>21                                 </td> <td>0                    </td> <td>5                      </td> <td>5                                                </td> <td>23                      </td> <td>4                           </td> <td>20                                      </td> <td>2                                                             </td> <td>16                       </td> <td>1                                   </td> <td>9                        </td> <td>2                             </td> <td>6                                          </td> <td>3                      </td> <td>1                    </td> <td>1                      </td> <td>4                      </td> <td>6                                       </td> <td>0                        </td> <td>0                       </td> <td>0                          </td> <td>2                       </td> <td>1                                                    </td> <td>0                 </td> <td>0                        </td> <td>0                        </td> <td>12                     </td> <td>2                  </td> <td>1                     </td> <td>0                           </td> <td>0                      </td>\n",
       "        </tr>\n",
       "    </tbody>\n",
       "        <tr>\n",
       "            <td>42nd & Penn Ave.                                        </td> <td>34                                                      </td> <td>22                </td> <td>10                </td> <td>32                </td> <td>2                   </td> <td>215             </td> <td>23                 </td> <td>0                </td> <td>26                       </td> <td>11                  </td> <td>1                                     </td> <td>24                     </td> <td>2                          </td> <td>1                            </td> <td>0        </td> <td>21                          </td> <td>2                       </td> <td>32                      </td> <td>66                        </td> <td>2                           </td> <td>4                                        </td> <td>6                    </td> <td>14                        </td> <td>0                                      </td> <td>14                         </td> <td>14                   </td> <td>10              </td> <td>0               </td> <td>15                                 </td> <td>83                   </td> <td>177                    </td> <td>56                                               </td> <td>19                      </td> <td>49                          </td> <td>9                                       </td> <td>30                                                            </td> <td>92                       </td> <td>80                                  </td> <td>107                      </td> <td>5                             </td> <td>2                                          </td> <td>3                      </td> <td>2                    </td> <td>1                      </td> <td>0                      </td> <td>1                                       </td> <td>15                       </td> <td>0                       </td> <td>4                          </td> <td>89                      </td> <td>22                                                   </td> <td>0                 </td> <td>34                       </td> <td>2                        </td> <td>30                     </td> <td>18                 </td> <td>40                    </td> <td>0                           </td> <td>2                      </td>\n",
       "        </tr>\n",
       "    </tbody>\n",
       "        <tr>\n",
       "            <td>42nd St & Butler St                                     </td> <td>445                                                     </td> <td>133               </td> <td>163               </td> <td>454               </td> <td>24                  </td> <td>205             </td> <td>1150               </td> <td>0                </td> <td>25                       </td> <td>5                   </td> <td>3                                     </td> <td>142                    </td> <td>27                         </td> <td>36                           </td> <td>0        </td> <td>25                          </td> <td>39                      </td> <td>22                      </td> <td>33                        </td> <td>21                          </td> <td>45                                       </td> <td>238                  </td> <td>225                       </td> <td>0                                      </td> <td>174                        </td> <td>49                   </td> <td>73              </td> <td>0               </td> <td>301                                </td> <td>75                   </td> <td>130                    </td> <td>176                                              </td> <td>191                     </td> <td>33                          </td> <td>165                                     </td> <td>23                                                            </td> <td>210                      </td> <td>18                                  </td> <td>91                       </td> <td>28                            </td> <td>56                                         </td> <td>34                     </td> <td>27                   </td> <td>27                     </td> <td>13                     </td> <td>28                                      </td> <td>21                       </td> <td>0                       </td> <td>2                          </td> <td>54                      </td> <td>29                                                   </td> <td>0                 </td> <td>10                       </td> <td>18                       </td> <td>160                    </td> <td>81                 </td> <td>25                    </td> <td>0                           </td> <td>7                      </td>\n",
       "        </tr>\n",
       "    </tbody>\n",
       "        <tr>\n",
       "            <td>ASCEND Pittsburgh                                       </td> <td>0                                                       </td> <td>0                 </td> <td>0                 </td> <td>0                 </td> <td>0                   </td> <td>0               </td> <td>0                  </td> <td>1                </td> <td>0                        </td> <td>0                   </td> <td>0                                     </td> <td>0                      </td> <td>0                          </td> <td>0                            </td> <td>0        </td> <td>0                           </td> <td>0                       </td> <td>0                       </td> <td>0                         </td> <td>0                           </td> <td>0                                        </td> <td>0                    </td> <td>0                         </td> <td>0                                      </td> <td>0                          </td> <td>0                    </td> <td>0               </td> <td>0               </td> <td>0                                  </td> <td>0                    </td> <td>0                      </td> <td>0                                                </td> <td>0                       </td> <td>0                           </td> <td>0                                       </td> <td>0                                                             </td> <td>0                        </td> <td>0                                   </td> <td>0                        </td> <td>0                             </td> <td>0                                          </td> <td>0                      </td> <td>0                    </td> <td>0                      </td> <td>0                      </td> <td>0                                       </td> <td>0                        </td> <td>0                       </td> <td>0                          </td> <td>0                       </td> <td>0                                                    </td> <td>0                 </td> <td>0                        </td> <td>0                        </td> <td>0                      </td> <td>0                  </td> <td>0                     </td> <td>0                           </td> <td>0                      </td>\n",
       "        </tr>\n",
       "    </tbody>\n",
       "        <tr>\n",
       "            <td>Alder St & S Highland Ave                               </td> <td>0                                                       </td> <td>2                 </td> <td>4                 </td> <td>8                 </td> <td>1                   </td> <td>29              </td> <td>8                  </td> <td>0                </td> <td>431                      </td> <td>13                  </td> <td>7                                     </td> <td>7                      </td> <td>0                          </td> <td>1                            </td> <td>0        </td> <td>151                         </td> <td>0                       </td> <td>194                     </td> <td>68                        </td> <td>1                           </td> <td>2                                        </td> <td>3                    </td> <td>5                         </td> <td>0                                      </td> <td>5                          </td> <td>26                   </td> <td>0               </td> <td>0               </td> <td>1                                  </td> <td>350                  </td> <td>63                     </td> <td>31                                               </td> <td>2                       </td> <td>78                          </td> <td>8                                       </td> <td>117                                                           </td> <td>41                       </td> <td>478                                 </td> <td>32                       </td> <td>3                             </td> <td>0                                          </td> <td>4                      </td> <td>7                    </td> <td>2                      </td> <td>0                      </td> <td>18                                      </td> <td>15                       </td> <td>0                       </td> <td>8                          </td> <td>68                      </td> <td>56                                                   </td> <td>0                 </td> <td>91                       </td> <td>0                        </td> <td>26                     </td> <td>0                  </td> <td>111                   </td> <td>0                           </td> <td>2                      </td>\n",
       "        </tr>\n",
       "    </tbody>\n",
       "        <tr>\n",
       "            <td>Atwood St & Bates St                                    </td> <td>2                                                       </td> <td>5                 </td> <td>8                 </td> <td>4                 </td> <td>0                   </td> <td>13              </td> <td>2                  </td> <td>0                </td> <td>10                       </td> <td>565                 </td> <td>101                                   </td> <td>1                      </td> <td>1                          </td> <td>0                            </td> <td>0        </td> <td>43                          </td> <td>4                       </td> <td>455                     </td> <td>84                        </td> <td>36                          </td> <td>2                                        </td> <td>4                    </td> <td>25                        </td> <td>0                                      </td> <td>3                          </td> <td>74                   </td> <td>11              </td> <td>3               </td> <td>4                                  </td> <td>78                   </td> <td>15                     </td> <td>15                                               </td> <td>26                      </td> <td>21                          </td> <td>10                                      </td> <td>160                                                           </td> <td>3                        </td> <td>6                                   </td> <td>9                        </td> <td>0                             </td> <td>4                                          </td> <td>3                      </td> <td>12                   </td> <td>9                      </td> <td>13                     </td> <td>51                                      </td> <td>5                        </td> <td>0                       </td> <td>27                         </td> <td>24                      </td> <td>148                                                  </td> <td>0                 </td> <td>6                        </td> <td>72                       </td> <td>11                     </td> <td>1                  </td> <td>6                     </td> <td>0                           </td> <td>22                     </td>\n",
       "        </tr>\n",
       "    </tbody>\n",
       "</table>\n",
       "<p>... (49 rows omitted)</p>"
      ],
      "text/plain": [
       "To station name                                          | 10th St & Penn Ave (David L. Lawrence Convention Center) | 12th St & Penn Ave | 17th St & Penn Ave | 21st St & Penn Ave | 33rd St and Penn Ave | 42nd & Penn Ave. | 42nd St & Butler St | ASCEND Pittsburgh | Alder St & S Highland Ave | Atwood St & Bates St | Boulevard of the Allies & Parkview Ave | Butler St & Stanton Ave | Centre Ave & Kirkpatrick St | Centre Ave & PPG Paints Arena | EQT Plaza | Ellsworth Ave & N Neville St | Federal St & E North Ave | Fifth Ave & S Bouquet St | Fifth Ave & S Dithridge St | First Ave & B St (T Station) | First Ave & Smithfield St (Art Institute) | Forbes Ave & Grant St | Forbes Ave & Market Square | Forbes and Gist (Open Streets May 2017) | Fort Duquesne Blvd & 7th St | Frew St & Schenley Dr | Healthy Ride Hub | Highmark Stadium | Isabella St & Federal St (PNC Park) | Ivy St & Walnut St    | Liberty Ave & Baum Blvd | Liberty Ave & S Millvale Ave (West Penn Hospital) | Liberty Ave & Stanwix St | Maryland Ave & Ellsworth Ave | North Shore Trail & Fort Duquesne Bridge | O'Hara St and University Place (Soldiers and Sailors Memorial) | Penn Ave & N Fairmount St | Penn Ave & Putnam St (Bakery Square) | Penn Ave & S Whitfield St | Ridge Ave & Brighton Rd (CCAC) | Ross St & Sixth Ave (Steel Plaza T Station) | S 12th St & E Carson St | S 18th St & Sidney St | S 22nd St & E Carson St | S 25th St & E Carson St | S 27th St & Sidney St. (Southside Works) | S Euclid Ave & Centre Ave | S Main St & Alexander St | S Millvale Ave & Centre Ave | S Negley Ave & Baum Blvd | Schenley Dr at Schenley Plaza (Carnegie Library Main) | Schenley Park Pool | Shady Ave & Ellsworth Ave | Stevenson St & Forbes Ave | Taylor St & Liberty Ave | Third Ave & Wood St | Walnut St & College St | Western Ave & Bidwell Street | Zulema St & Coltart Ave\n",
       "10th St & Penn Ave (David L. Lawrence Convention Center) | 2336                                                     | 161                | 835                | 1040               | 47                   | 82               | 251                 | 0                 | 7                         | 8                    | 49                                     | 333                     | 12                          | 69                            | 1         | 10                           | 246                      | 26                       | 7                          | 55                           | 96                                        | 79                    | 387                        | 0                                       | 171                         | 9                     | 66               | 0                | 342                                 | 58                    | 43                      | 92                                                | 407                      | 12                           | 258                                      | 12                                                             | 37                        | 12                                   | 8                         | 98                             | 83                                          | 102                     | 75                    | 56                      | 53                      | 112                                      | 7                         | 0                        | 17                          | 27                       | 20                                                    | 0                  | 6                         | 51                        | 161                     | 56                  | 100                    | 0                            | 21\n",
       "12th St & Penn Ave                                       | 134                                                      | 978                | 100                | 163                | 19                   | 40               | 73                  | 0                 | 5                         | 3                    | 4                                      | 45                      | 9                           | 24                            | 0         | 8                            | 50                       | 7                        | 4                          | 20                           | 38                                        | 38                    | 287                        | 0                                       | 43                          | 0                     | 26               | 0                | 145                                 | 1                     | 7                       | 47                                                | 134                      | 3                            | 80                                       | 2                                                              | 13                        | 2                                    | 6                         | 4                              | 40                                          | 17                      | 16                    | 10                      | 10                      | 14                                       | 1                         | 0                        | 3                           | 2                        | 3                                                     | 0                  | 1                         | 13                        | 25                      | 24                  | 4                      | 0                            | 3\n",
       "17th St & Penn Ave                                       | 721                                                      | 176                | 683                | 191                | 17                   | 65               | 167                 | 0                 | 4                         | 18                   | 4                                      | 99                      | 1                           | 88                            | 0         | 12                           | 141                      | 10                       | 9                          | 77                           | 219                                       | 101                   | 506                        | 0                                       | 162                         | 27                    | 19               | 0                | 219                                 | 21                    | 27                      | 51                                                | 561                      | 61                           | 144                                      | 11                                                             | 20                        | 3                                    | 5                         | 57                             | 131                                         | 88                      | 81                    | 57                      | 60                      | 72                                       | 10                        | 0                        | 5                           | 28                       | 9                                                     | 0                  | 3                         | 46                        | 43                      | 72                  | 5                      | 1                            | 12\n",
       "21st St & Penn Ave                                       | 1304                                                     | 335                | 139                | 1900               | 65                   | 107              | 479                 | 0                 | 30                        | 13                   | 3                                      | 375                     | 4                           | 67                            | 0         | 40                           | 122                      | 26                       | 23                         | 62                           | 113                                       | 131                   | 761                        | 0                                       | 395                         | 9                     | 97               | 0                | 456                                 | 91                    | 77                      | 64                                                | 631                      | 35                           | 266                                      | 28                                                             | 43                        | 6                                    | 25                        | 103                            | 253                                         | 88                      | 49                    | 24                      | 52                      | 146                                      | 20                        | 0                        | 4                           | 20                       | 21                                                    | 0                  | 23                        | 57                        | 127                     | 85                  | 28                     | 0                            | 11\n",
       "33rd St and Penn Ave                                     | 45                                                       | 9                  | 12                 | 50                 | 250                  | 14               | 25                  | 0                 | 1                         | 0                    | 0                                      | 23                      | 0                           | 3                             | 0         | 3                            | 12                       | 1                        | 1                          | 4                            | 6                                         | 7                     | 25                         | 0                                       | 18                          | 1                     | 68               | 0                | 21                                  | 0                     | 5                       | 5                                                 | 23                       | 4                            | 20                                       | 2                                                              | 16                        | 1                                    | 9                         | 2                              | 6                                           | 3                       | 1                     | 1                       | 4                       | 6                                        | 0                         | 0                        | 0                           | 2                        | 1                                                     | 0                  | 0                         | 0                         | 12                      | 2                   | 1                      | 0                            | 0\n",
       "42nd & Penn Ave.                                         | 34                                                       | 22                 | 10                 | 32                 | 2                    | 215              | 23                  | 0                 | 26                        | 11                   | 1                                      | 24                      | 2                           | 1                             | 0         | 21                           | 2                        | 32                       | 66                         | 2                            | 4                                         | 6                     | 14                         | 0                                       | 14                          | 14                    | 10               | 0                | 15                                  | 83                    | 177                     | 56                                                | 19                       | 49                           | 9                                        | 30                                                             | 92                        | 80                                   | 107                       | 5                              | 2                                           | 3                       | 2                     | 1                       | 0                       | 1                                        | 15                        | 0                        | 4                           | 89                       | 22                                                    | 0                  | 34                        | 2                         | 30                      | 18                  | 40                     | 0                            | 2\n",
       "42nd St & Butler St                                      | 445                                                      | 133                | 163                | 454                | 24                   | 205              | 1150                | 0                 | 25                        | 5                    | 3                                      | 142                     | 27                          | 36                            | 0         | 25                           | 39                       | 22                       | 33                         | 21                           | 45                                        | 238                   | 225                        | 0                                       | 174                         | 49                    | 73               | 0                | 301                                 | 75                    | 130                     | 176                                               | 191                      | 33                           | 165                                      | 23                                                             | 210                       | 18                                   | 91                        | 28                             | 56                                          | 34                      | 27                    | 27                      | 13                      | 28                                       | 21                        | 0                        | 2                           | 54                       | 29                                                    | 0                  | 10                        | 18                        | 160                     | 81                  | 25                     | 0                            | 7\n",
       "ASCEND Pittsburgh                                        | 0                                                        | 0                  | 0                  | 0                  | 0                    | 0                | 0                   | 1                 | 0                         | 0                    | 0                                      | 0                       | 0                           | 0                             | 0         | 0                            | 0                        | 0                        | 0                          | 0                            | 0                                         | 0                     | 0                          | 0                                       | 0                           | 0                     | 0                | 0                | 0                                   | 0                     | 0                       | 0                                                 | 0                        | 0                            | 0                                        | 0                                                              | 0                         | 0                                    | 0                         | 0                              | 0                                           | 0                       | 0                     | 0                       | 0                       | 0                                        | 0                         | 0                        | 0                           | 0                        | 0                                                     | 0                  | 0                         | 0                         | 0                       | 0                   | 0                      | 0                            | 0\n",
       "Alder St & S Highland Ave                                | 0                                                        | 2                  | 4                  | 8                  | 1                    | 29               | 8                   | 0                 | 431                       | 13                   | 7                                      | 7                       | 0                           | 1                             | 0         | 151                          | 0                        | 194                      | 68                         | 1                            | 2                                         | 3                     | 5                          | 0                                       | 5                           | 26                    | 0                | 0                | 1                                   | 350                   | 63                      | 31                                                | 2                        | 78                           | 8                                        | 117                                                            | 41                        | 478                                  | 32                        | 3                              | 0                                           | 4                       | 7                     | 2                       | 0                       | 18                                       | 15                        | 0                        | 8                           | 68                       | 56                                                    | 0                  | 91                        | 0                         | 26                      | 0                   | 111                    | 0                            | 2\n",
       "Atwood St & Bates St                                     | 2                                                        | 5                  | 8                  | 4                  | 0                    | 13               | 2                   | 0                 | 10                        | 565                  | 101                                    | 1                       | 1                           | 0                             | 0         | 43                           | 4                        | 455                      | 84                         | 36                           | 2                                         | 4                     | 25                         | 0                                       | 3                           | 74                    | 11               | 3                | 4                                   | 78                    | 15                      | 15                                                | 26                       | 21                           | 10                                       | 160                                                            | 3                         | 6                                    | 9                         | 0                              | 4                                           | 3                       | 12                    | 9                       | 13                      | 51                                       | 5                         | 0                        | 27                          | 24                       | 148                                                   | 0                  | 6                         | 72                        | 11                      | 1                   | 6                      | 0                            | 22\n",
       "... (49 rows omitted)"
      ]
     },
     "execution_count": 6,
     "metadata": {},
     "output_type": "execute_result"
    }
   ],
   "source": [
    "start_stop_combinations = total_tables.pivot(6,8)\n",
    "start_stop_combinations"
   ]
  },
  {
   "cell_type": "markdown",
   "metadata": {},
   "source": [
    "To pull the most common combination of start and stop station destinations, we can create a new table called `most_common_combinations` using the function `group` which will have a column with the start station name and end station name as well as the count of this combination in a table that we can sort from greatest to least."
   ]
  },
  {
   "cell_type": "code",
   "execution_count": 7,
   "metadata": {},
   "outputs": [
    {
     "data": {
      "text/html": [
       "<table border=\"1\" class=\"dataframe\">\n",
       "    <thead>\n",
       "        <tr>\n",
       "            <th>From station name</th> <th>To station name</th> <th>count</th>\n",
       "        </tr>\n",
       "    </thead>\n",
       "    <tbody>\n",
       "        <tr>\n",
       "            <td>S 27th St & Sidney St. (Southside Works)                </td> <td>S 27th St & Sidney St. (Southside Works)                </td> <td>6033 </td>\n",
       "        </tr>\n",
       "    </tbody>\n",
       "        <tr>\n",
       "            <td>North Shore Trail & Fort Duquesne Bridge                </td> <td>North Shore Trail & Fort Duquesne Bridge                </td> <td>4492 </td>\n",
       "        </tr>\n",
       "    </tbody>\n",
       "        <tr>\n",
       "            <td>Liberty Ave & Stanwix St                                </td> <td>Liberty Ave & Stanwix St                                </td> <td>4177 </td>\n",
       "        </tr>\n",
       "    </tbody>\n",
       "        <tr>\n",
       "            <td>Forbes Ave & Market Square                              </td> <td>Forbes Ave & Market Square                              </td> <td>2931 </td>\n",
       "        </tr>\n",
       "    </tbody>\n",
       "        <tr>\n",
       "            <td>Isabella St & Federal St (PNC Park)                     </td> <td>Isabella St & Federal St (PNC Park)                     </td> <td>2702 </td>\n",
       "        </tr>\n",
       "    </tbody>\n",
       "        <tr>\n",
       "            <td>10th St & Penn Ave (David L. Lawrence Convention Center)</td> <td>10th St & Penn Ave (David L. Lawrence Convention Center)</td> <td>2336 </td>\n",
       "        </tr>\n",
       "    </tbody>\n",
       "        <tr>\n",
       "            <td>21st St & Penn Ave                                      </td> <td>21st St & Penn Ave                                      </td> <td>1900 </td>\n",
       "        </tr>\n",
       "    </tbody>\n",
       "        <tr>\n",
       "            <td>S 12th St & E Carson St                                 </td> <td>S 12th St & E Carson St                                 </td> <td>1822 </td>\n",
       "        </tr>\n",
       "    </tbody>\n",
       "        <tr>\n",
       "            <td>S 18th St & Sidney St                                   </td> <td>S 18th St & Sidney St                                   </td> <td>1797 </td>\n",
       "        </tr>\n",
       "    </tbody>\n",
       "        <tr>\n",
       "            <td>Schenley Dr at Schenley Plaza (Carnegie Library Main)   </td> <td>Schenley Dr at Schenley Plaza (Carnegie Library Main)   </td> <td>1732 </td>\n",
       "        </tr>\n",
       "    </tbody>\n",
       "</table>\n",
       "<p>... (2520 rows omitted)</p>"
      ],
      "text/plain": [
       "From station name                                        | To station name                                          | count\n",
       "S 27th St & Sidney St. (Southside Works)                 | S 27th St & Sidney St. (Southside Works)                 | 6033\n",
       "North Shore Trail & Fort Duquesne Bridge                 | North Shore Trail & Fort Duquesne Bridge                 | 4492\n",
       "Liberty Ave & Stanwix St                                 | Liberty Ave & Stanwix St                                 | 4177\n",
       "Forbes Ave & Market Square                               | Forbes Ave & Market Square                               | 2931\n",
       "Isabella St & Federal St (PNC Park)                      | Isabella St & Federal St (PNC Park)                      | 2702\n",
       "10th St & Penn Ave (David L. Lawrence Convention Center) | 10th St & Penn Ave (David L. Lawrence Convention Center) | 2336\n",
       "21st St & Penn Ave                                       | 21st St & Penn Ave                                       | 1900\n",
       "S 12th St & E Carson St                                  | S 12th St & E Carson St                                  | 1822\n",
       "S 18th St & Sidney St                                    | S 18th St & Sidney St                                    | 1797\n",
       "Schenley Dr at Schenley Plaza (Carnegie Library Main)    | Schenley Dr at Schenley Plaza (Carnegie Library Main)    | 1732\n",
       "... (2520 rows omitted)"
      ]
     },
     "execution_count": 7,
     "metadata": {},
     "output_type": "execute_result"
    }
   ],
   "source": [
    "most_common_combinations = Total_with_all_stuff_final.group([\"From station name\", \"To station name\"]).sort(\"count\", descending=True)\n",
    "most_common_combinations"
   ]
  },
  {
   "cell_type": "markdown",
   "metadata": {},
   "source": [
    "**Answer**: "
   ]
  },
  {
   "cell_type": "code",
   "execution_count": 8,
   "metadata": {},
   "outputs": [
    {
     "name": "stdout",
     "output_type": "stream",
     "text": [
      "The most common start and end station combination is \u001b[1mS 27th St & Sidney St. (Southside Works) to S 27th St & Sidney St. (Southside Works)\n"
     ]
    }
   ],
   "source": [
    "print('The most common start and end station combination is', '\\033[1m' + most_common_combinations.column('From station name')[0], 'to', most_common_combinations.column('To station name')[0])"
   ]
  },
  {
   "cell_type": "markdown",
   "metadata": {},
   "source": [
    "Now that we know the most common start and end station combination, we can move on to seeing whether types of trips vary with user type. \n",
    "\n",
    "## 2. Do types of trips vary with user type?\n",
    "\n",
    "**Recall**: There are 3 different user types: Customer, Daily, and Subscriber. The user types are based on the type of membership the user holds with Healthy Rides in terms of whether they are just renting for the day or have a monthly or yearly membership. \n",
    "\n",
    "In terms of types of trips, we will be comparing the amount of users per user type, the duration of the trips based on user type, and the start/end destinations for each user types. \n",
    "\n",
    "To begin, we will look at how many of each user type Healthy Rides has (in terms of the dataset we have access to). We do this by using the `group` method by 'Usertype' which will count the amount of users there are by type in a table called `user_types_total`."
   ]
  },
  {
   "cell_type": "code",
   "execution_count": 29,
   "metadata": {},
   "outputs": [
    {
     "data": {
      "text/html": [
       "<table border=\"1\" class=\"dataframe\">\n",
       "    <thead>\n",
       "        <tr>\n",
       "            <th>Usertype</th> <th>count</th>\n",
       "        </tr>\n",
       "    </thead>\n",
       "    <tbody>\n",
       "        <tr>\n",
       "            <td>Customer  </td> <td>122241</td>\n",
       "        </tr>\n",
       "    </tbody>\n",
       "        <tr>\n",
       "            <td>Daily     </td> <td>186   </td>\n",
       "        </tr>\n",
       "    </tbody>\n",
       "        <tr>\n",
       "            <td>Subscriber</td> <td>75332 </td>\n",
       "        </tr>\n",
       "    </tbody>\n",
       "</table>"
      ],
      "text/plain": [
       "Usertype   | count\n",
       "Customer   | 122241\n",
       "Daily      | 186\n",
       "Subscriber | 75332"
      ]
     },
     "execution_count": 29,
     "metadata": {},
     "output_type": "execute_result"
    }
   ],
   "source": [
    "user_types_total = Total_with_all_stuff_final.group('Usertype')\n",
    "user_types_total"
   ]
  },
  {
   "cell_type": "code",
   "execution_count": 30,
   "metadata": {},
   "outputs": [
    {
     "data": {
      "image/png": "[encoded data removed]",
      "text/plain": [
       "<matplotlib.figure.Figure at 0x1a180bf3c8>"
      ]
     },
     "metadata": {},
     "output_type": "display_data"
    }
   ],
   "source": [
    "user_types_total.barh('Usertype')"
   ]
  },
  {
   "cell_type": "code",
   "execution_count": 32,
   "metadata": {},
   "outputs": [
    {
     "name": "stdout",
     "output_type": "stream",
     "text": [
      "Customer user types outweigh Daily user types by \u001b[1m 122055 users\n"
     ]
    }
   ],
   "source": [
    "difference_cust_daily = user_types_total.column('count')[0] - user_types_total.column('count')[1]\n",
    "print('Customer user types outweigh Daily user types by', '\\033[1m', difference_cust_daily, 'users')"
   ]
  },
  {
   "cell_type": "markdown",
   "metadata": {},
   "source": [
    "From this bar chart, we can see that Customer user types are the most common followed by Subscriber and Daily with huge differences the number of each type. As seen in the above calculation, Customer users outnumber Daily users by 122,055 users. Daily users numbers are so low that it isn't even visible on the graph.\n",
    "\n",
    "Next, to further look at the difference user types may have in terms of types of trips, we will start by looking at whether there is a correlation between trip duration and user types. To do so, we can create a bar graph in order to visualize the data."
   ]
  },
  {
   "cell_type": "code",
   "execution_count": 12,
   "metadata": {},
   "outputs": [
    {
     "data": {
      "image/png": "[encoded data removed]",
      "text/plain": [
       "<matplotlib.figure.Figure at 0x1a21566e48>"
      ]
     },
     "metadata": {},
     "output_type": "display_data"
    }
   ],
   "source": [
    "Total_with_all_stuff_final.select([\"Tripduration\",\"Usertype\"]).group(\"Usertype\", np.average).barh(\"Usertype\")"
   ]
  },
  {
   "cell_type": "code",
   "execution_count": 13,
   "metadata": {},
   "outputs": [
    {
     "name": "stdout",
     "output_type": "stream",
     "text": [
      "Daily user types trip duration average outweigh Customer user types trip duration average by \u001b[1m 8261 seconds\n"
     ]
    }
   ],
   "source": [
    "duration = Total_with_all_stuff_final.select([\"Tripduration\",\"Usertype\"]).group(\"Usertype\", np.average)\n",
    "duration_diff = int(round(duration.column('Tripduration average')[1] - duration.column('Tripduration average')[0]))\n",
    "print('Daily user types trip duration average outweigh Customer user types trip duration average by', '\\033[1m', duration_diff, 'seconds')\n"
   ]
  },
  {
   "cell_type": "markdown",
   "metadata": {},
   "source": [
    "Looking at our bar graph above, we can see that daily users have a much higher trip duration than customer or subscriber users by at least 8261 seconds despite being the lowest in number of users. Daily users rent the Healthy Trip bikes for the entire day while customer and subscriber users have monthly memberships.This may explain why Daily users ride for much longer: they may want to get the most of their purchase since they are renting for the day rather than by month. "
   ]
  },
  {
   "cell_type": "markdown",
   "metadata": {},
   "source": [
    "Lastly, we want to look at whether there is a correlation between user type and start/end destinations to view another effect user types may have on trip types. We can do this by grouping the start and stations and count the number of users of each type at this combination.\n",
    "\n",
    "**Is there a correlation between user type and start/end destinations?**\n",
    "\n",
    "To begin, we will create a table called `user_type_start_stop` that groups the start and end station combinations and counts the amount of users by type at that combination. "
   ]
  },
  {
   "cell_type": "code",
   "execution_count": 41,
   "metadata": {
    "scrolled": true
   },
   "outputs": [
    {
     "data": {
      "text/html": [
       "<table border=\"1\" class=\"dataframe\">\n",
       "    <thead>\n",
       "        <tr>\n",
       "            <th>From station name</th> <th>To station name</th> <th>Usertype</th> <th>count</th>\n",
       "        </tr>\n",
       "    </thead>\n",
       "    <tbody>\n",
       "        <tr>\n",
       "            <td>10th St & Penn Ave (David L. Lawrence Convention Center)</td> <td>10th St & Penn Ave (David L. Lawrence Convention Center)</td> <td>Customer  </td> <td>2073 </td>\n",
       "        </tr>\n",
       "    </tbody>\n",
       "        <tr>\n",
       "            <td>10th St & Penn Ave (David L. Lawrence Convention Center)</td> <td>10th St & Penn Ave (David L. Lawrence Convention Center)</td> <td>Daily     </td> <td>4    </td>\n",
       "        </tr>\n",
       "    </tbody>\n",
       "        <tr>\n",
       "            <td>10th St & Penn Ave (David L. Lawrence Convention Center)</td> <td>10th St & Penn Ave (David L. Lawrence Convention Center)</td> <td>Subscriber</td> <td>259  </td>\n",
       "        </tr>\n",
       "    </tbody>\n",
       "        <tr>\n",
       "            <td>10th St & Penn Ave (David L. Lawrence Convention Center)</td> <td>12th St & Penn Ave                                      </td> <td>Customer  </td> <td>89   </td>\n",
       "        </tr>\n",
       "    </tbody>\n",
       "        <tr>\n",
       "            <td>10th St & Penn Ave (David L. Lawrence Convention Center)</td> <td>12th St & Penn Ave                                      </td> <td>Daily     </td> <td>1    </td>\n",
       "        </tr>\n",
       "    </tbody>\n",
       "        <tr>\n",
       "            <td>10th St & Penn Ave (David L. Lawrence Convention Center)</td> <td>12th St & Penn Ave                                      </td> <td>Subscriber</td> <td>44   </td>\n",
       "        </tr>\n",
       "    </tbody>\n",
       "        <tr>\n",
       "            <td>10th St & Penn Ave (David L. Lawrence Convention Center)</td> <td>17th St & Penn Ave                                      </td> <td>Customer  </td> <td>334  </td>\n",
       "        </tr>\n",
       "    </tbody>\n",
       "        <tr>\n",
       "            <td>10th St & Penn Ave (David L. Lawrence Convention Center)</td> <td>17th St & Penn Ave                                      </td> <td>Subscriber</td> <td>387  </td>\n",
       "        </tr>\n",
       "    </tbody>\n",
       "        <tr>\n",
       "            <td>10th St & Penn Ave (David L. Lawrence Convention Center)</td> <td>21st St & Penn Ave                                      </td> <td>Customer  </td> <td>746  </td>\n",
       "        </tr>\n",
       "    </tbody>\n",
       "        <tr>\n",
       "            <td>10th St & Penn Ave (David L. Lawrence Convention Center)</td> <td>21st St & Penn Ave                                      </td> <td>Daily     </td> <td>2    </td>\n",
       "        </tr>\n",
       "    </tbody>\n",
       "</table>\n",
       "<p>... (4685 rows omitted)</p>"
      ],
      "text/plain": [
       "From station name                                        | To station name                                          | Usertype   | count\n",
       "10th St & Penn Ave (David L. Lawrence Convention Center) | 10th St & Penn Ave (David L. Lawrence Convention Center) | Customer   | 2073\n",
       "10th St & Penn Ave (David L. Lawrence Convention Center) | 10th St & Penn Ave (David L. Lawrence Convention Center) | Daily      | 4\n",
       "10th St & Penn Ave (David L. Lawrence Convention Center) | 10th St & Penn Ave (David L. Lawrence Convention Center) | Subscriber | 259\n",
       "10th St & Penn Ave (David L. Lawrence Convention Center) | 12th St & Penn Ave                                       | Customer   | 89\n",
       "10th St & Penn Ave (David L. Lawrence Convention Center) | 12th St & Penn Ave                                       | Daily      | 1\n",
       "10th St & Penn Ave (David L. Lawrence Convention Center) | 12th St & Penn Ave                                       | Subscriber | 44\n",
       "10th St & Penn Ave (David L. Lawrence Convention Center) | 17th St & Penn Ave                                       | Customer   | 334\n",
       "10th St & Penn Ave (David L. Lawrence Convention Center) | 17th St & Penn Ave                                       | Subscriber | 387\n",
       "10th St & Penn Ave (David L. Lawrence Convention Center) | 21st St & Penn Ave                                       | Customer   | 746\n",
       "10th St & Penn Ave (David L. Lawrence Convention Center) | 21st St & Penn Ave                                       | Daily      | 2\n",
       "... (4685 rows omitted)"
      ]
     },
     "execution_count": 41,
     "metadata": {},
     "output_type": "execute_result"
    }
   ],
   "source": [
    "user_type_start_stop = Total_with_all_stuff_final.group([\"From station name\", \"To station name\", \"Usertype\"])\n",
    "user_type_start_stop"
   ]
  },
  {
   "cell_type": "markdown",
   "metadata": {},
   "source": [
    "Next, we want create separate tables for each of the three different user types in order to compare them. We will call these `customer_type`, `daily_type`, and `subscriber_type`."
   ]
  },
  {
   "cell_type": "code",
   "execution_count": 15,
   "metadata": {
    "scrolled": true
   },
   "outputs": [
    {
     "data": {
      "text/html": [
       "<table border=\"1\" class=\"dataframe\">\n",
       "    <thead>\n",
       "        <tr>\n",
       "            <th>From station name</th> <th>To station name</th> <th>Usertype</th> <th>count</th>\n",
       "        </tr>\n",
       "    </thead>\n",
       "    <tbody>\n",
       "        <tr>\n",
       "            <td>S 27th St & Sidney St. (Southside Works)                </td> <td>S 27th St & Sidney St. (Southside Works)                </td> <td>Customer</td> <td>5471 </td>\n",
       "        </tr>\n",
       "    </tbody>\n",
       "        <tr>\n",
       "            <td>North Shore Trail & Fort Duquesne Bridge                </td> <td>North Shore Trail & Fort Duquesne Bridge                </td> <td>Customer</td> <td>4294 </td>\n",
       "        </tr>\n",
       "    </tbody>\n",
       "        <tr>\n",
       "            <td>Liberty Ave & Stanwix St                                </td> <td>Liberty Ave & Stanwix St                                </td> <td>Customer</td> <td>3681 </td>\n",
       "        </tr>\n",
       "    </tbody>\n",
       "        <tr>\n",
       "            <td>Forbes Ave & Market Square                              </td> <td>Forbes Ave & Market Square                              </td> <td>Customer</td> <td>2560 </td>\n",
       "        </tr>\n",
       "    </tbody>\n",
       "        <tr>\n",
       "            <td>Isabella St & Federal St (PNC Park)                     </td> <td>Isabella St & Federal St (PNC Park)                     </td> <td>Customer</td> <td>2477 </td>\n",
       "        </tr>\n",
       "    </tbody>\n",
       "        <tr>\n",
       "            <td>10th St & Penn Ave (David L. Lawrence Convention Center)</td> <td>10th St & Penn Ave (David L. Lawrence Convention Center)</td> <td>Customer</td> <td>2073 </td>\n",
       "        </tr>\n",
       "    </tbody>\n",
       "        <tr>\n",
       "            <td>21st St & Penn Ave                                      </td> <td>21st St & Penn Ave                                      </td> <td>Customer</td> <td>1722 </td>\n",
       "        </tr>\n",
       "    </tbody>\n",
       "        <tr>\n",
       "            <td>S 18th St & Sidney St                                   </td> <td>S 18th St & Sidney St                                   </td> <td>Customer</td> <td>1614 </td>\n",
       "        </tr>\n",
       "    </tbody>\n",
       "        <tr>\n",
       "            <td>S 12th St & E Carson St                                 </td> <td>S 12th St & E Carson St                                 </td> <td>Customer</td> <td>1595 </td>\n",
       "        </tr>\n",
       "    </tbody>\n",
       "        <tr>\n",
       "            <td>Schenley Dr at Schenley Plaza (Carnegie Library Main)   </td> <td>Schenley Dr at Schenley Plaza (Carnegie Library Main)   </td> <td>Customer</td> <td>1571 </td>\n",
       "        </tr>\n",
       "    </tbody>\n",
       "</table>\n",
       "<p>... (2416 rows omitted)</p>"
      ],
      "text/plain": [
       "From station name                                        | To station name                                          | Usertype | count\n",
       "S 27th St & Sidney St. (Southside Works)                 | S 27th St & Sidney St. (Southside Works)                 | Customer | 5471\n",
       "North Shore Trail & Fort Duquesne Bridge                 | North Shore Trail & Fort Duquesne Bridge                 | Customer | 4294\n",
       "Liberty Ave & Stanwix St                                 | Liberty Ave & Stanwix St                                 | Customer | 3681\n",
       "Forbes Ave & Market Square                               | Forbes Ave & Market Square                               | Customer | 2560\n",
       "Isabella St & Federal St (PNC Park)                      | Isabella St & Federal St (PNC Park)                      | Customer | 2477\n",
       "10th St & Penn Ave (David L. Lawrence Convention Center) | 10th St & Penn Ave (David L. Lawrence Convention Center) | Customer | 2073\n",
       "21st St & Penn Ave                                       | 21st St & Penn Ave                                       | Customer | 1722\n",
       "S 18th St & Sidney St                                    | S 18th St & Sidney St                                    | Customer | 1614\n",
       "S 12th St & E Carson St                                  | S 12th St & E Carson St                                  | Customer | 1595\n",
       "Schenley Dr at Schenley Plaza (Carnegie Library Main)    | Schenley Dr at Schenley Plaza (Carnegie Library Main)    | Customer | 1571\n",
       "... (2416 rows omitted)"
      ]
     },
     "execution_count": 15,
     "metadata": {},
     "output_type": "execute_result"
    }
   ],
   "source": [
    "customer_type = user_type_start_stop.where('Usertype', are.equal_to('Customer')).sort('count', descending = True)\n",
    "customer_type"
   ]
  },
  {
   "cell_type": "code",
   "execution_count": 16,
   "metadata": {},
   "outputs": [
    {
     "data": {
      "text/html": [
       "<table border=\"1\" class=\"dataframe\">\n",
       "    <thead>\n",
       "        <tr>\n",
       "            <th>From station name</th> <th>To station name</th> <th>Usertype</th> <th>count</th>\n",
       "        </tr>\n",
       "    </thead>\n",
       "    <tbody>\n",
       "        <tr>\n",
       "            <td>Forbes Ave & Market Square                              </td> <td>Forbes Ave & Market Square                              </td> <td>Daily   </td> <td>6    </td>\n",
       "        </tr>\n",
       "    </tbody>\n",
       "        <tr>\n",
       "            <td>Centre Ave & PPG Paints Arena                           </td> <td>17th St & Penn Ave                                      </td> <td>Daily   </td> <td>5    </td>\n",
       "        </tr>\n",
       "    </tbody>\n",
       "        <tr>\n",
       "            <td>Isabella St & Federal St (PNC Park)                     </td> <td>Isabella St & Federal St (PNC Park)                     </td> <td>Daily   </td> <td>5    </td>\n",
       "        </tr>\n",
       "    </tbody>\n",
       "        <tr>\n",
       "            <td>S 12th St & E Carson St                                 </td> <td>S 12th St & E Carson St                                 </td> <td>Daily   </td> <td>5    </td>\n",
       "        </tr>\n",
       "    </tbody>\n",
       "        <tr>\n",
       "            <td>10th St & Penn Ave (David L. Lawrence Convention Center)</td> <td>10th St & Penn Ave (David L. Lawrence Convention Center)</td> <td>Daily   </td> <td>4    </td>\n",
       "        </tr>\n",
       "    </tbody>\n",
       "        <tr>\n",
       "            <td>21st St & Penn Ave                                      </td> <td>21st St & Penn Ave                                      </td> <td>Daily   </td> <td>4    </td>\n",
       "        </tr>\n",
       "    </tbody>\n",
       "        <tr>\n",
       "            <td>Federal St & E North Ave                                </td> <td>Federal St & E North Ave                                </td> <td>Daily   </td> <td>4    </td>\n",
       "        </tr>\n",
       "    </tbody>\n",
       "        <tr>\n",
       "            <td>Fort Duquesne Blvd & 7th St                             </td> <td>Fort Duquesne Blvd & 7th St                             </td> <td>Daily   </td> <td>4    </td>\n",
       "        </tr>\n",
       "    </tbody>\n",
       "        <tr>\n",
       "            <td>Liberty Ave & Baum Blvd                                 </td> <td>Liberty Ave & Baum Blvd                                 </td> <td>Daily   </td> <td>4    </td>\n",
       "        </tr>\n",
       "    </tbody>\n",
       "        <tr>\n",
       "            <td>Liberty Ave & Stanwix St                                </td> <td>Liberty Ave & Stanwix St                                </td> <td>Daily   </td> <td>4    </td>\n",
       "        </tr>\n",
       "    </tbody>\n",
       "</table>\n",
       "<p>... (115 rows omitted)</p>"
      ],
      "text/plain": [
       "From station name                                        | To station name                                          | Usertype | count\n",
       "Forbes Ave & Market Square                               | Forbes Ave & Market Square                               | Daily    | 6\n",
       "Centre Ave & PPG Paints Arena                            | 17th St & Penn Ave                                       | Daily    | 5\n",
       "Isabella St & Federal St (PNC Park)                      | Isabella St & Federal St (PNC Park)                      | Daily    | 5\n",
       "S 12th St & E Carson St                                  | S 12th St & E Carson St                                  | Daily    | 5\n",
       "10th St & Penn Ave (David L. Lawrence Convention Center) | 10th St & Penn Ave (David L. Lawrence Convention Center) | Daily    | 4\n",
       "21st St & Penn Ave                                       | 21st St & Penn Ave                                       | Daily    | 4\n",
       "Federal St & E North Ave                                 | Federal St & E North Ave                                 | Daily    | 4\n",
       "Fort Duquesne Blvd & 7th St                              | Fort Duquesne Blvd & 7th St                              | Daily    | 4\n",
       "Liberty Ave & Baum Blvd                                  | Liberty Ave & Baum Blvd                                  | Daily    | 4\n",
       "Liberty Ave & Stanwix St                                 | Liberty Ave & Stanwix St                                 | Daily    | 4\n",
       "... (115 rows omitted)"
      ]
     },
     "execution_count": 16,
     "metadata": {},
     "output_type": "execute_result"
    }
   ],
   "source": [
    "daily_type = user_type_start_stop.where('Usertype', are.equal_to('Daily')).sort('count', descending = True)\n",
    "daily_type"
   ]
  },
  {
   "cell_type": "code",
   "execution_count": 17,
   "metadata": {},
   "outputs": [
    {
     "data": {
      "text/html": [
       "<table border=\"1\" class=\"dataframe\">\n",
       "    <thead>\n",
       "        <tr>\n",
       "            <th>From station name</th> <th>To station name</th> <th>Usertype</th> <th>count</th>\n",
       "        </tr>\n",
       "    </thead>\n",
       "    <tbody>\n",
       "        <tr>\n",
       "            <td>Boulevard of the Allies & Parkview Ave                  </td> <td>Fifth Ave & S Bouquet St                                </td> <td>Subscriber</td> <td>1001 </td>\n",
       "        </tr>\n",
       "    </tbody>\n",
       "        <tr>\n",
       "            <td>Fifth Ave & S Bouquet St                                </td> <td>Boulevard of the Allies & Parkview Ave                  </td> <td>Subscriber</td> <td>908  </td>\n",
       "        </tr>\n",
       "    </tbody>\n",
       "        <tr>\n",
       "            <td>Boulevard of the Allies & Parkview Ave                  </td> <td>Frew St & Schenley Dr                                   </td> <td>Subscriber</td> <td>790  </td>\n",
       "        </tr>\n",
       "    </tbody>\n",
       "        <tr>\n",
       "            <td>Frew St & Schenley Dr                                   </td> <td>Boulevard of the Allies & Parkview Ave                  </td> <td>Subscriber</td> <td>721  </td>\n",
       "        </tr>\n",
       "    </tbody>\n",
       "        <tr>\n",
       "            <td>Alder St & S Highland Ave                               </td> <td>Penn Ave & Putnam St (Bakery Square)                    </td> <td>Subscriber</td> <td>658  </td>\n",
       "        </tr>\n",
       "    </tbody>\n",
       "        <tr>\n",
       "            <td>S 27th St & Sidney St. (Southside Works)                </td> <td>S 27th St & Sidney St. (Southside Works)                </td> <td>Subscriber</td> <td>559  </td>\n",
       "        </tr>\n",
       "    </tbody>\n",
       "        <tr>\n",
       "            <td>10th St & Penn Ave (David L. Lawrence Convention Center)</td> <td>21st St & Penn Ave                                      </td> <td>Subscriber</td> <td>556  </td>\n",
       "        </tr>\n",
       "    </tbody>\n",
       "        <tr>\n",
       "            <td>17th St & Penn Ave                                      </td> <td>10th St & Penn Ave (David L. Lawrence Convention Center)</td> <td>Subscriber</td> <td>508  </td>\n",
       "        </tr>\n",
       "    </tbody>\n",
       "        <tr>\n",
       "            <td>21st St & Penn Ave                                      </td> <td>10th St & Penn Ave (David L. Lawrence Convention Center)</td> <td>Subscriber</td> <td>497  </td>\n",
       "        </tr>\n",
       "    </tbody>\n",
       "        <tr>\n",
       "            <td>Liberty Ave & Stanwix St                                </td> <td>Liberty Ave & Stanwix St                                </td> <td>Subscriber</td> <td>492  </td>\n",
       "        </tr>\n",
       "    </tbody>\n",
       "</table>\n",
       "<p>... (2134 rows omitted)</p>"
      ],
      "text/plain": [
       "From station name                                        | To station name                                          | Usertype   | count\n",
       "Boulevard of the Allies & Parkview Ave                   | Fifth Ave & S Bouquet St                                 | Subscriber | 1001\n",
       "Fifth Ave & S Bouquet St                                 | Boulevard of the Allies & Parkview Ave                   | Subscriber | 908\n",
       "Boulevard of the Allies & Parkview Ave                   | Frew St & Schenley Dr                                    | Subscriber | 790\n",
       "Frew St & Schenley Dr                                    | Boulevard of the Allies & Parkview Ave                   | Subscriber | 721\n",
       "Alder St & S Highland Ave                                | Penn Ave & Putnam St (Bakery Square)                     | Subscriber | 658\n",
       "S 27th St & Sidney St. (Southside Works)                 | S 27th St & Sidney St. (Southside Works)                 | Subscriber | 559\n",
       "10th St & Penn Ave (David L. Lawrence Convention Center) | 21st St & Penn Ave                                       | Subscriber | 556\n",
       "17th St & Penn Ave                                       | 10th St & Penn Ave (David L. Lawrence Convention Center) | Subscriber | 508\n",
       "21st St & Penn Ave                                       | 10th St & Penn Ave (David L. Lawrence Convention Center) | Subscriber | 497\n",
       "Liberty Ave & Stanwix St                                 | Liberty Ave & Stanwix St                                 | Subscriber | 492\n",
       "... (2134 rows omitted)"
      ]
     },
     "execution_count": 17,
     "metadata": {},
     "output_type": "execute_result"
    }
   ],
   "source": [
    "subscriber_type = user_type_start_stop.where('Usertype', are.equal_to('Subscriber')).sort('count', descending = True)\n",
    "subscriber_type"
   ]
  },
  {
   "cell_type": "markdown",
   "metadata": {},
   "source": [
    "To begin analyzing whether there may be a connection between user types and start/end station combinations, we can pull the most common start/end station combination for each type. "
   ]
  },
  {
   "cell_type": "code",
   "execution_count": 18,
   "metadata": {
    "scrolled": true
   },
   "outputs": [
    {
     "name": "stdout",
     "output_type": "stream",
     "text": [
      "The most common start and end station combination for Customer users is: \u001b[1m S 27th St & Sidney St. (Southside Works) to S 27th St & Sidney St. (Southside Works) \u001b[0m\n",
      "The most common start and end station combination for Daily users is: \u001b[1m Forbes Ave & Market Square to Forbes Ave & Market Square \u001b[0m\n",
      "The most common start and end station combination for Subscriber users is: \u001b[1m Boulevard of the Allies & Parkview Ave to Fifth Ave & S Bouquet St \u001b[0m\n"
     ]
    }
   ],
   "source": [
    "print('The most common start and end station combination for Customer users is:', '\\033[1m', customer_type.column('From station name')[0], 'to', customer_type.column('To station name')[0], '\\033[0m')\n",
    "\n",
    "\n",
    "print('The most common start and end station combination for Daily users is:', '\\033[1m', daily_type.column('From station name')[0], 'to', daily_type.column('To station name')[0], '\\033[0m')\n",
    "\n",
    "\n",
    "print('The most common start and end station combination for Subscriber users is:', '\\033[1m', subscriber_type.column('From station name')[0], 'to', subscriber_type.column('To station name')[0], '\\033[0m')\n"
   ]
  },
  {
   "cell_type": "markdown",
   "metadata": {},
   "source": [
    "From this, we can see that the most common start and end station combinations for each user type are all different. But how different are they?\n",
    "\n",
    "To further compare, let's see what percentage of Subscriber users go to Daily users' most common start and end station combination, **Forbes Ave & Market Square to Forbes Ave & Market Square**, compared to their own most common start and end station combination, **Boulevard of the Allies & Parkview Ave to Fifth Ave & S Bouquet St**."
   ]
  },
  {
   "cell_type": "code",
   "execution_count": 19,
   "metadata": {
    "scrolled": true
   },
   "outputs": [
    {
     "name": "stdout",
     "output_type": "stream",
     "text": [
      "\u001b[1m 17 % \u001b[0m of Subscriber users bike from \u001b[1m Forbes Ave & Market Square to Forbes Ave & Market Square \u001b[0m compared to \u001b[1m 47 % \u001b[0m of Subscribers users who bike from \u001b[1m Boulevard of the Allies & Parkview Ave to Fifth Ave & S Bouquet St. \u001b[0m\n"
     ]
    }
   ],
   "source": [
    "sub_count = int(round((subscriber_type.where('From station name', are.equal_to('Boulevard of the Allies & Parkview Ave')).where('To station name', are.equal_to('Fifth Ave & S Bouquet St')).column('count')[0])/(subscriber_type.num_rows)*100))\n",
    "sub_count_user = int(round((subscriber_type.where('From station name', are.equal_to('Forbes Ave & Market Square')).where('To station name', are.equal_to('Forbes Ave & Market Square')).column('count')[0])/(subscriber_type.num_rows)*100))\n",
    "\n",
    "\n",
    "print('\\033[1m', sub_count_user, \"% \\033[0m of Subscriber users bike from \\033[1m Forbes Ave & Market Square to Forbes Ave & Market Square \\033[0m compared to \\033[1m\", sub_count, \"% \\033[0m of Subscribers users who bike from \\033[1m Boulevard of the Allies & Parkview Ave to Fifth Ave & S Bouquet St. \\033[0m\")\n"
   ]
  },
  {
   "cell_type": "markdown",
   "metadata": {},
   "source": [
    "To make this comparison easier, we can define a function called `percentage_user_types` that will take in the user tables, start/end station combinations, indices, and user types as their arguments and return a statement that compares the percentages of the users who bike from/to the given stations allowing us to compare as many routes between user types as we would like."
   ]
  },
  {
   "cell_type": "code",
   "execution_count": 20,
   "metadata": {},
   "outputs": [],
   "source": [
    "def percentage_user_types(user_table_1, user_table_2, from_street_1, to_street_1, i_1, from_street_2, to_street_2, i_2, user_type_1, user_type_2):\n",
    "    user_percentage = int(round((user_table_1.where('From station name', are.equal_to(from_street_1)).where('To station name', are.equal_to(to_street_1)).column('count')[i_1])/(user_table_1.num_rows)*100))\n",
    "    user_percentage_two = int(round((user_table_2.where('From station name', are.equal_to(from_street_2)).where('To station name', are.equal_to(to_street_2)).column('count')[i_2])/(user_table_2.num_rows)*100))\n",
    "    print('\\033[1m', user_percentage, \"% \\033[0m of\", user_type_1, \"users bike from \\033[1m\", from_street_1, \"to\", to_street_1, \"\\033[0m compared to \\033[1m\", user_percentage_two, \"% \\033[0m of\", user_type_2, \"users who bike from \\033[1m\", from_street_2, \"to\", to_street_2,'.')\n"
   ]
  },
  {
   "cell_type": "markdown",
   "metadata": {},
   "source": [
    "Let's see if we're right. We can test this by checking again what percent of Subscriber users bike from Forbes Ave & Market Square to Forbes Ave compared to the percent of Subscriber users who bike from Boulevard of the Allies & Parkview Ave to Fifth Ave & S Bouquet St. The statement printed should be the same as the one above."
   ]
  },
  {
   "cell_type": "code",
   "execution_count": 21,
   "metadata": {
    "scrolled": true
   },
   "outputs": [
    {
     "name": "stdout",
     "output_type": "stream",
     "text": [
      "\u001b[1m 17 % \u001b[0m of Subscriber users bike from \u001b[1m Forbes Ave & Market Square to Forbes Ave & Market Square \u001b[0m compared to \u001b[1m 47 % \u001b[0m of Subscriber users who bike from \u001b[1m Boulevard of the Allies & Parkview Ave to Fifth Ave & S Bouquet St .\n"
     ]
    }
   ],
   "source": [
    "test_func = percentage_user_types(subscriber_type, subscriber_type, 'Forbes Ave & Market Square', 'Forbes Ave & Market Square', 0, 'Boulevard of the Allies & Parkview Ave', 'Fifth Ave & S Bouquet St', 0, 'Subscriber', 'Subscriber')\n",
    "test_func"
   ]
  },
  {
   "cell_type": "markdown",
   "metadata": {},
   "source": [
    "It matches! Now, we have a function that can be used to compare as many user types and start/end station destinations as we'd like. \n",
    "\n",
    "Let's try it to check the percentage of Daily users who bike from **Centre Ave & PPG Paints Arena to 17th St & Penn Ave** compared to the percentage of Customer users who bike there. "
   ]
  },
  {
   "cell_type": "code",
   "execution_count": 22,
   "metadata": {
    "scrolled": true
   },
   "outputs": [
    {
     "name": "stdout",
     "output_type": "stream",
     "text": [
      "\u001b[1m 4 % \u001b[0m of Daily users bike from \u001b[1m Centre Ave & PPG Paints Arena to 17th St & Penn Ave \u001b[0m compared to \u001b[1m 2 % \u001b[0m of Customer users who bike from \u001b[1m Centre Ave & PPG Paints Arena to 17th St & Penn Ave .\n"
     ]
    }
   ],
   "source": [
    "perc_daily_cust = percentage_user_types(daily_type, customer_type, 'Centre Ave & PPG Paints Arena', '17th St & Penn Ave', 0, 'Centre Ave & PPG Paints Arena', '17th St & Penn Ave', 0, 'Daily', 'Customer')\n",
    "perc_daily_cust\n"
   ]
  },
  {
   "cell_type": "markdown",
   "metadata": {},
   "source": [
    "**SUMMARY**: \n",
    "For question 2, we wanted to see if types of trips vary with user type. To do so, we did the following:\n",
    "    1. Looked at the amount of users by user type in a table and bar graph.\n",
    "    2. Observed whether there is a correlation between trip duration and user types by creating a bar graph. \n",
    "    3. Checked whether there is a correlation between user type and start/end destination.\n",
    "\n",
    "**ANSWER**:\n",
    "For each of the following, we saw that the data did vary greatly according to user type. \n",
    "In terms of amount of users, there was a large difference in subscriber, customer, and daily users, with customer users being much more active than daily users by 122,055 users! \n",
    "When looking at trip duration average and user types, we observed on the bar graph that daily users have a much higher trip duration average than both customer and subscriber users by at least 8261 seconds. \n",
    "Lastly, looking at start/end destinations and user types, we see that none of the user types have the same most common start/end destination combination. When comparing the percentage of users that bike to the different start/end combinations, we see that the numbers are low for those that do bike to another user's most common start/end combinations. For example, we saw that subscriber users biking to daily users' most common start/end station is only 17% compared to the 47% of subscribers who bike to their own most common start/end station. From these 3 checks, we can observe that the types of trips in terms of duration and location may be influenced by the user type, or at least observe the differences in all of these factors by user type. "
   ]
  },
  {
   "cell_type": "markdown",
   "metadata": {},
   "source": [
    "## 3. Do the types of trips vary with the time of day or year?\n",
    "\n",
    "To start, we can sort the data by quarters to see if the number of users renting bikes vary by time of year. \n",
    "\n",
    "**Recall**\n",
    "\n",
    "**Quarter 1**: January, February, & March\n",
    "\n",
    "**Quarter 2**: April, May, & June\n",
    "\n",
    "**Quarter 3**: July, August, & September\n",
    "\n",
    "**Quarter 4**: October, November, & December \n",
    "\n",
    "Notice that the quarters align with the seasons where quarter 1 is winter, quarter 2 is spring, quarter 3 is summer, and quarter 4 is autumn in Pittsburg (where Healthy Rides is located). \n",
    "\n",
    "First, we'll define a function called `num_users` that takes in an argument x which goes through the quarters list called `quarter_names` that is a list of all the tables. This function will return a list of all the users per quarter which we will then use to create a table and a corresponding line plot of the data. "
   ]
  },
  {
   "cell_type": "code",
   "execution_count": 63,
   "metadata": {},
   "outputs": [
    {
     "data": {
      "text/html": [
       "<table border=\"1\" class=\"dataframe\">\n",
       "    <thead>\n",
       "        <tr>\n",
       "            <th>Quarter Number</th> <th>Quarter</th> <th>Number of Users</th>\n",
       "        </tr>\n",
       "    </thead>\n",
       "    <tbody>\n",
       "        <tr>\n",
       "            <td>1             </td> <td>2015_q2</td> <td>9198           </td>\n",
       "        </tr>\n",
       "    </tbody>\n",
       "        <tr>\n",
       "            <td>2             </td> <td>2015_q3</td> <td>38007          </td>\n",
       "        </tr>\n",
       "    </tbody>\n",
       "        <tr>\n",
       "            <td>3             </td> <td>2015_q4</td> <td>15100          </td>\n",
       "        </tr>\n",
       "    </tbody>\n",
       "        <tr>\n",
       "            <td>4             </td> <td>2016_q1</td> <td>9841           </td>\n",
       "        </tr>\n",
       "    </tbody>\n",
       "        <tr>\n",
       "            <td>5             </td> <td>2016_q2</td> <td>26370          </td>\n",
       "        </tr>\n",
       "    </tbody>\n",
       "        <tr>\n",
       "            <td>6             </td> <td>2016_q3</td> <td>28841          </td>\n",
       "        </tr>\n",
       "    </tbody>\n",
       "        <tr>\n",
       "            <td>7             </td> <td>2016_q4</td> <td>11322          </td>\n",
       "        </tr>\n",
       "    </tbody>\n",
       "        <tr>\n",
       "            <td>8             </td> <td>2017_q1</td> <td>7224           </td>\n",
       "        </tr>\n",
       "    </tbody>\n",
       "        <tr>\n",
       "            <td>9             </td> <td>2017_q2</td> <td>24313          </td>\n",
       "        </tr>\n",
       "    </tbody>\n",
       "        <tr>\n",
       "            <td>10            </td> <td>2017_q3</td> <td>27706          </td>\n",
       "        </tr>\n",
       "    </tbody>\n",
       "</table>"
      ],
      "text/plain": [
       "Quarter Number | Quarter | Number of Users\n",
       "1              | 2015_q2 | 9198\n",
       "2              | 2015_q3 | 38007\n",
       "3              | 2015_q4 | 15100\n",
       "4              | 2016_q1 | 9841\n",
       "5              | 2016_q2 | 26370\n",
       "6              | 2016_q3 | 28841\n",
       "7              | 2016_q4 | 11322\n",
       "8              | 2017_q1 | 7224\n",
       "9              | 2017_q2 | 24313\n",
       "10             | 2017_q3 | 27706"
      ]
     },
     "execution_count": 63,
     "metadata": {},
     "output_type": "execute_result"
    }
   ],
   "source": [
    "quarter_names=[Rides2015_q2, Rides2015_q3, Rides2015_q4, Rides2016_q1, Rides2016_q2, Rides2016_q3, Rides2016_q4, Rides2017_q1, Rides2017_q2, Rides2017_q3]\n",
    "def num_users(x):\n",
    "    user_per_quarter=[]\n",
    "    for i in x:\n",
    "        rows=i.num_rows\n",
    "        user_per_quarter.append(rows)\n",
    "    return user_per_quarter\n",
    "#quarter_names\n",
    "user_per_quarter=num_users(quarter_names)\n",
    "\n",
    "Quarters=make_array(\"2015_q2\", \"2015_q3\", \"2015_q4\", \"2016_q1\", \"2016_q2\", \"2016_q3\", \"2016_q4\", \"2017_q1\", \"2017_q2\", \"2017_q3\")\n",
    "\n",
    "Table().with_column(\"Quarter Number\", np.arange(1, 11), \"Quarter\", Quarters, \"Number of Users\", user_per_quarter)"
   ]
  },
  {
   "cell_type": "code",
   "execution_count": 64,
   "metadata": {},
   "outputs": [
    {
     "data": {
      "image/png": "[encoded data removed]",
      "text/plain": [
       "<matplotlib.figure.Figure at 0x1a202c7780>"
      ]
     },
     "metadata": {},
     "output_type": "display_data"
    }
   ],
   "source": [
    "Table().with_column(\"Quarters\", np.arange(1, 11)).with_column(\"Users\", User_per_quarter).plot(0, 1)"
   ]
  },
  {
   "cell_type": "markdown",
   "metadata": {},
   "source": [
    "From the line plot above, we can see that riders are more active in quarter numbers 2, 5, 6, 9, and 10 which, according to the table above, represents **Q3 in 2015, Q2 in 2016, Q3 in 2016, Q2 in 2017, and Q3 in 2017**. Riders are much less active in quarter numbers 1, 3, 4, 7, and 8 which correspond to **Q2 in 2015, Q4 in 2015, Q1 in 2016, Q4 in 2016, and Q1 in 2017**. To summarize, riders are more active in Q2 & Q3 versus Q1 & Q4. A compelling reason for this may be the weather. Q2 & Q3 align with the spring and summer seasons while Q1 & Q4 align with the autumn and winter seasons. \n",
    "\n",
    "**Next, let's see if trip duration also varies by time of year.** \n",
    "\n",
    "To do this, we will define another function called `trip_dur_quarter` that takes in the same argument x as above of the list of all the tables called `quarter_names` and will return a list of the average trip duration per quarter. We will use this output to create a line plot in order to better visualize the data. "
   ]
  },
  {
   "cell_type": "code",
   "execution_count": 57,
   "metadata": {
    "scrolled": true
   },
   "outputs": [
    {
     "data": {
      "image/png": "[encoded data removed]",
      "text/plain": [
       "<matplotlib.figure.Figure at 0x1a499330f0>"
      ]
     },
     "metadata": {},
     "output_type": "display_data"
    }
   ],
   "source": [
    "def trip_dur_quarter(x):\n",
    "    durations=[]\n",
    "    for i in x:\n",
    "        length=np.mean(i.column(\"Tripduration\"))\n",
    "        durations.append(length)\n",
    "    return durations\n",
    "\n",
    "Table().with_column(\"Quarters\", np.arange(1, 11)).with_column(\"Average Trip Duration\", trip_dur_quarter(quarter_names)).plot(0, 1)"
   ]
  },
  {
   "cell_type": "markdown",
   "metadata": {},
   "source": [
    "From the line plot above, we see that average trip durations correspond to quarters as well. Average trip durations seem to be higher in quarter numbers 2, 5, 6, 9, and 10 which correspond to **Q3 in 2015, Q2 in 2016, Q3 in 2016, Q2 in 2017, and Q3 in 2017**. Conversely, average trip durations are lower in quarter numbers 1, 3, 4, 7, and 8 which correspond to **Q4 in 2015, Q1 in 2016, Q4 in 2016, and Q1 in 2017**. To summarize, average trip duration is much longer in Q2 & Q3 versus Q1 & Q4. Again, the reason for this may be the weather/season. \n",
    "\n",
    "Notice that this activity matches that of the users per quarter line plot exactly in terms of trip duration longivity and user activity according to quarter. In both, Q2 & Q3 are much more active while Q1 & Q4 are not. The shapes of the two line plots are very similar in terms of peaks, lows, and fluctuations, though they are slightly different in terms of intensity of fluctuations. \n",
    "\n",
    "To summarize, we can see from these two line plots that types of trips in terms of user activity and trip duration do vary by time of year with users being much more active and average trip duration being much longer in Quarters 2 & 3 versus Quarters 1 & 4. \n",
    "\n",
    "**Now, we'll look at whether types of trips vary by time of day.** \n",
    "\n",
    "To start, we'll use pandas to convert the date for start and end times into day of week. We will add this new information to the main table we've been working with `Total_with_all_stuff_final` and call the new table we will be working with in this part of the project to `Total_with_days`. "
   ]
  },
  {
   "cell_type": "code",
   "execution_count": 65,
   "metadata": {},
   "outputs": [],
   "source": [
    "#used pandas to convert date into day of the week\n",
    "start_date_convert = pd.DataFrame({'my_dates':Total_with_all_stuff_final.column(3)})\n",
    "start_date_convert['date'] = pd.to_datetime(start_date_convert['my_dates'])\n",
    "start_date_convert['day_of_week'] = start_date_convert['date'].dt.weekday_name"
   ]
  },
  {
   "cell_type": "code",
   "execution_count": 66,
   "metadata": {},
   "outputs": [],
   "source": [
    "end_date_convert = pd.DataFrame({'my_dates':Total_with_all_stuff_final.column(4)})\n",
    "end_date_convert['date'] = pd.to_datetime(end_date_convert['my_dates'])\n",
    "end_date_convert['day_of_week'] = end_date_convert['date'].dt.weekday_name"
   ]
  },
  {
   "cell_type": "code",
   "execution_count": 67,
   "metadata": {},
   "outputs": [
    {
     "data": {
      "text/html": [
       "<table border=\"1\" class=\"dataframe\">\n",
       "    <thead>\n",
       "        <tr>\n",
       "            <th>To station id</th> <th>From station id</th> <th>Trip id</th> <th>Starttime</th> <th>Stoptime</th> <th>Bikeid</th> <th>Tripduration</th> <th>From station name</th> <th>To station name</th> <th>Usertype</th> <th># of Racks</th> <th>Start Latitude</th> <th>Start Longitude</th> <th>End Latitude</th> <th>End Longitude</th> <th>Start Day</th> <th>End Day</th>\n",
       "        </tr>\n",
       "    </thead>\n",
       "    <tbody>\n",
       "        <tr>\n",
       "            <td>1000         </td> <td>1000           </td> <td>25767868</td> <td>1/11/2017 14:01</td> <td>1/11/2017 14:25</td> <td>70013 </td> <td>1482        </td> <td>Liberty Ave & Stanwix St</td> <td>Liberty Ave & Stanwix St</td> <td>Customer</td> <td>16        </td> <td>40.4413       </td> <td>-80.0047       </td> <td>40.4413     </td> <td>-80.0047     </td> <td>Wednesday</td> <td>Wednesday</td>\n",
       "        </tr>\n",
       "    </tbody>\n",
       "        <tr>\n",
       "            <td>1000         </td> <td>1000           </td> <td>25767880</td> <td>1/11/2017 14:03</td> <td>1/11/2017 14:26</td> <td>70479 </td> <td>1384        </td> <td>Liberty Ave & Stanwix St</td> <td>Liberty Ave & Stanwix St</td> <td>Customer</td> <td>16        </td> <td>40.4413       </td> <td>-80.0047       </td> <td>40.4413     </td> <td>-80.0047     </td> <td>Wednesday</td> <td>Wednesday</td>\n",
       "        </tr>\n",
       "    </tbody>\n",
       "        <tr>\n",
       "            <td>1000         </td> <td>1000           </td> <td>25779222</td> <td>1/13/2017 12:11</td> <td>1/13/2017 12:17</td> <td>70155 </td> <td>355         </td> <td>Liberty Ave & Stanwix St</td> <td>Liberty Ave & Stanwix St</td> <td>Customer</td> <td>16        </td> <td>40.4413       </td> <td>-80.0047       </td> <td>40.4413     </td> <td>-80.0047     </td> <td>Friday   </td> <td>Friday   </td>\n",
       "        </tr>\n",
       "    </tbody>\n",
       "        <tr>\n",
       "            <td>1000         </td> <td>1000           </td> <td>25812448</td> <td>1/19/2017 15:13</td> <td>1/19/2017 16:23</td> <td>70446 </td> <td>4223        </td> <td>Liberty Ave & Stanwix St</td> <td>Liberty Ave & Stanwix St</td> <td>Customer</td> <td>16        </td> <td>40.4413       </td> <td>-80.0047       </td> <td>40.4413     </td> <td>-80.0047     </td> <td>Thursday </td> <td>Thursday </td>\n",
       "        </tr>\n",
       "    </tbody>\n",
       "        <tr>\n",
       "            <td>1000         </td> <td>1000           </td> <td>25817308</td> <td>1/20/2017 10:21</td> <td>1/20/2017 10:22</td> <td>70093 </td> <td>81          </td> <td>Liberty Ave & Stanwix St</td> <td>Liberty Ave & Stanwix St</td> <td>Customer</td> <td>16        </td> <td>40.4413       </td> <td>-80.0047       </td> <td>40.4413     </td> <td>-80.0047     </td> <td>Friday   </td> <td>Friday   </td>\n",
       "        </tr>\n",
       "    </tbody>\n",
       "        <tr>\n",
       "            <td>1000         </td> <td>1000           </td> <td>25823113</td> <td>1/21/2017 12:25</td> <td>1/21/2017 13:41</td> <td>70036 </td> <td>4548        </td> <td>Liberty Ave & Stanwix St</td> <td>Liberty Ave & Stanwix St</td> <td>Customer</td> <td>16        </td> <td>40.4413       </td> <td>-80.0047       </td> <td>40.4413     </td> <td>-80.0047     </td> <td>Saturday </td> <td>Saturday </td>\n",
       "        </tr>\n",
       "    </tbody>\n",
       "        <tr>\n",
       "            <td>1000         </td> <td>1000           </td> <td>25823127</td> <td>1/21/2017 12:27</td> <td>1/21/2017 13:17</td> <td>70195 </td> <td>3027        </td> <td>Liberty Ave & Stanwix St</td> <td>Liberty Ave & Stanwix St</td> <td>Customer</td> <td>16        </td> <td>40.4413       </td> <td>-80.0047       </td> <td>40.4413     </td> <td>-80.0047     </td> <td>Saturday </td> <td>Saturday </td>\n",
       "        </tr>\n",
       "    </tbody>\n",
       "        <tr>\n",
       "            <td>1000         </td> <td>1000           </td> <td>25823856</td> <td>1/21/2017 15:03</td> <td>1/21/2017 15:49</td> <td>70442 </td> <td>2800        </td> <td>Liberty Ave & Stanwix St</td> <td>Liberty Ave & Stanwix St</td> <td>Customer</td> <td>16        </td> <td>40.4413       </td> <td>-80.0047       </td> <td>40.4413     </td> <td>-80.0047     </td> <td>Saturday </td> <td>Saturday </td>\n",
       "        </tr>\n",
       "    </tbody>\n",
       "        <tr>\n",
       "            <td>1000         </td> <td>1000           </td> <td>25823865</td> <td>1/21/2017 15:05</td> <td>1/21/2017 15:50</td> <td>70414 </td> <td>2663        </td> <td>Liberty Ave & Stanwix St</td> <td>Liberty Ave & Stanwix St</td> <td>Customer</td> <td>16        </td> <td>40.4413       </td> <td>-80.0047       </td> <td>40.4413     </td> <td>-80.0047     </td> <td>Saturday </td> <td>Saturday </td>\n",
       "        </tr>\n",
       "    </tbody>\n",
       "        <tr>\n",
       "            <td>1000         </td> <td>1000           </td> <td>25823907</td> <td>1/21/2017 15:13</td> <td>1/21/2017 15:48</td> <td>70028 </td> <td>2106        </td> <td>Liberty Ave & Stanwix St</td> <td>Liberty Ave & Stanwix St</td> <td>Customer</td> <td>16        </td> <td>40.4413       </td> <td>-80.0047       </td> <td>40.4413     </td> <td>-80.0047     </td> <td>Saturday </td> <td>Saturday </td>\n",
       "        </tr>\n",
       "    </tbody>\n",
       "</table>\n",
       "<p>... (197749 rows omitted)</p>"
      ],
      "text/plain": [
       "To station id | From station id | Trip id  | Starttime       | Stoptime        | Bikeid | Tripduration | From station name        | To station name          | Usertype | # of Racks | Start Latitude | Start Longitude | End Latitude | End Longitude | Start Day | End Day\n",
       "1000          | 1000            | 25767868 | 1/11/2017 14:01 | 1/11/2017 14:25 | 70013  | 1482         | Liberty Ave & Stanwix St | Liberty Ave & Stanwix St | Customer | 16         | 40.4413        | -80.0047        | 40.4413      | -80.0047      | Wednesday | Wednesday\n",
       "1000          | 1000            | 25767880 | 1/11/2017 14:03 | 1/11/2017 14:26 | 70479  | 1384         | Liberty Ave & Stanwix St | Liberty Ave & Stanwix St | Customer | 16         | 40.4413        | -80.0047        | 40.4413      | -80.0047      | Wednesday | Wednesday\n",
       "1000          | 1000            | 25779222 | 1/13/2017 12:11 | 1/13/2017 12:17 | 70155  | 355          | Liberty Ave & Stanwix St | Liberty Ave & Stanwix St | Customer | 16         | 40.4413        | -80.0047        | 40.4413      | -80.0047      | Friday    | Friday\n",
       "1000          | 1000            | 25812448 | 1/19/2017 15:13 | 1/19/2017 16:23 | 70446  | 4223         | Liberty Ave & Stanwix St | Liberty Ave & Stanwix St | Customer | 16         | 40.4413        | -80.0047        | 40.4413      | -80.0047      | Thursday  | Thursday\n",
       "1000          | 1000            | 25817308 | 1/20/2017 10:21 | 1/20/2017 10:22 | 70093  | 81           | Liberty Ave & Stanwix St | Liberty Ave & Stanwix St | Customer | 16         | 40.4413        | -80.0047        | 40.4413      | -80.0047      | Friday    | Friday\n",
       "1000          | 1000            | 25823113 | 1/21/2017 12:25 | 1/21/2017 13:41 | 70036  | 4548         | Liberty Ave & Stanwix St | Liberty Ave & Stanwix St | Customer | 16         | 40.4413        | -80.0047        | 40.4413      | -80.0047      | Saturday  | Saturday\n",
       "1000          | 1000            | 25823127 | 1/21/2017 12:27 | 1/21/2017 13:17 | 70195  | 3027         | Liberty Ave & Stanwix St | Liberty Ave & Stanwix St | Customer | 16         | 40.4413        | -80.0047        | 40.4413      | -80.0047      | Saturday  | Saturday\n",
       "1000          | 1000            | 25823856 | 1/21/2017 15:03 | 1/21/2017 15:49 | 70442  | 2800         | Liberty Ave & Stanwix St | Liberty Ave & Stanwix St | Customer | 16         | 40.4413        | -80.0047        | 40.4413      | -80.0047      | Saturday  | Saturday\n",
       "1000          | 1000            | 25823865 | 1/21/2017 15:05 | 1/21/2017 15:50 | 70414  | 2663         | Liberty Ave & Stanwix St | Liberty Ave & Stanwix St | Customer | 16         | 40.4413        | -80.0047        | 40.4413      | -80.0047      | Saturday  | Saturday\n",
       "1000          | 1000            | 25823907 | 1/21/2017 15:13 | 1/21/2017 15:48 | 70028  | 2106         | Liberty Ave & Stanwix St | Liberty Ave & Stanwix St | Customer | 16         | 40.4413        | -80.0047        | 40.4413      | -80.0047      | Saturday  | Saturday\n",
       "... (197749 rows omitted)"
      ]
     },
     "execution_count": 67,
     "metadata": {},
     "output_type": "execute_result"
    }
   ],
   "source": [
    "Total_with_days=Total_with_all_stuff_final.with_column(\"Start Day\", start_date_convert[\"day_of_week\"], \"End Day\", end_date_convert[\"day_of_week\"])\n",
    "Total_with_days "
   ]
  },
  {
   "cell_type": "markdown",
   "metadata": {},
   "source": [
    "Then, we will use the `group` method to count the number of rides that start and end at each hour over a regular 24-hour day in two separate tables called `start_hour_count` and `end_hour_count`."
   ]
  },
  {
   "cell_type": "code",
   "execution_count": 68,
   "metadata": {},
   "outputs": [
    {
     "data": {
      "text/html": [
       "<table border=\"1\" class=\"dataframe\">\n",
       "    <thead>\n",
       "        <tr>\n",
       "            <th>Start Hour</th> <th>count</th>\n",
       "        </tr>\n",
       "    </thead>\n",
       "    <tbody>\n",
       "        <tr>\n",
       "            <td>0         </td> <td>1874 </td>\n",
       "        </tr>\n",
       "    </tbody>\n",
       "        <tr>\n",
       "            <td>1         </td> <td>1247 </td>\n",
       "        </tr>\n",
       "    </tbody>\n",
       "        <tr>\n",
       "            <td>2         </td> <td>917  </td>\n",
       "        </tr>\n",
       "    </tbody>\n",
       "        <tr>\n",
       "            <td>3         </td> <td>336  </td>\n",
       "        </tr>\n",
       "    </tbody>\n",
       "        <tr>\n",
       "            <td>4         </td> <td>282  </td>\n",
       "        </tr>\n",
       "    </tbody>\n",
       "        <tr>\n",
       "            <td>5         </td> <td>1009 </td>\n",
       "        </tr>\n",
       "    </tbody>\n",
       "        <tr>\n",
       "            <td>6         </td> <td>1882 </td>\n",
       "        </tr>\n",
       "    </tbody>\n",
       "        <tr>\n",
       "            <td>7         </td> <td>5728 </td>\n",
       "        </tr>\n",
       "    </tbody>\n",
       "        <tr>\n",
       "            <td>8         </td> <td>9206 </td>\n",
       "        </tr>\n",
       "    </tbody>\n",
       "        <tr>\n",
       "            <td>9         </td> <td>8082 </td>\n",
       "        </tr>\n",
       "    </tbody>\n",
       "</table>\n",
       "<p>... (14 rows omitted)</p>"
      ],
      "text/plain": [
       "Start Hour | count\n",
       "0          | 1874\n",
       "1          | 1247\n",
       "2          | 917\n",
       "3          | 336\n",
       "4          | 282\n",
       "5          | 1009\n",
       "6          | 1882\n",
       "7          | 5728\n",
       "8          | 9206\n",
       "9          | 8082\n",
       "... (14 rows omitted)"
      ]
     },
     "execution_count": 68,
     "metadata": {},
     "output_type": "execute_result"
    }
   ],
   "source": [
    "start_date_convert[\"hour\"] = start_date_convert[\"date\"].dt.hour\n",
    "start_hour_count=Total_with_days.with_column(\"Start Hour\", start_date_convert[\"hour\"]).group(\"Start Hour\")\n",
    "start_hour_count"
   ]
  },
  {
   "cell_type": "code",
   "execution_count": 69,
   "metadata": {
    "scrolled": true
   },
   "outputs": [
    {
     "data": {
      "text/html": [
       "<table border=\"1\" class=\"dataframe\">\n",
       "    <thead>\n",
       "        <tr>\n",
       "            <th>End Hour</th> <th>count</th>\n",
       "        </tr>\n",
       "    </thead>\n",
       "    <tbody>\n",
       "        <tr>\n",
       "            <td>0       </td> <td>2311 </td>\n",
       "        </tr>\n",
       "    </tbody>\n",
       "        <tr>\n",
       "            <td>1       </td> <td>1419 </td>\n",
       "        </tr>\n",
       "    </tbody>\n",
       "        <tr>\n",
       "            <td>2       </td> <td>1178 </td>\n",
       "        </tr>\n",
       "    </tbody>\n",
       "        <tr>\n",
       "            <td>3       </td> <td>474  </td>\n",
       "        </tr>\n",
       "    </tbody>\n",
       "        <tr>\n",
       "            <td>4       </td> <td>306  </td>\n",
       "        </tr>\n",
       "    </tbody>\n",
       "        <tr>\n",
       "            <td>5       </td> <td>596  </td>\n",
       "        </tr>\n",
       "    </tbody>\n",
       "        <tr>\n",
       "            <td>6       </td> <td>1648 </td>\n",
       "        </tr>\n",
       "    </tbody>\n",
       "        <tr>\n",
       "            <td>7       </td> <td>4556 </td>\n",
       "        </tr>\n",
       "    </tbody>\n",
       "        <tr>\n",
       "            <td>8       </td> <td>8463 </td>\n",
       "        </tr>\n",
       "    </tbody>\n",
       "        <tr>\n",
       "            <td>9       </td> <td>7150 </td>\n",
       "        </tr>\n",
       "    </tbody>\n",
       "</table>\n",
       "<p>... (14 rows omitted)</p>"
      ],
      "text/plain": [
       "End Hour | count\n",
       "0        | 2311\n",
       "1        | 1419\n",
       "2        | 1178\n",
       "3        | 474\n",
       "4        | 306\n",
       "5        | 596\n",
       "6        | 1648\n",
       "7        | 4556\n",
       "8        | 8463\n",
       "9        | 7150\n",
       "... (14 rows omitted)"
      ]
     },
     "execution_count": 69,
     "metadata": {},
     "output_type": "execute_result"
    }
   ],
   "source": [
    "end_date_convert[\"hour\"] = end_date_convert[\"date\"].dt.hour\n",
    "end_hour_count=Total_with_days.with_column(\"End Hour\", end_date_convert[\"hour\"]).group(\"End Hour\")\n",
    "end_hour_count"
   ]
  },
  {
   "cell_type": "markdown",
   "metadata": {},
   "source": [
    "We'll combine these two tables into one table called `Start_and_end_count` which we will then use to create an overlaid line plot in order to visualize and compare the start and end counts as shown below. From this, we see that the the two plots are very similar and align almost perfectly meaning that the start counts and end counts at each hour are almost equal. A reason for this is because each trip averages about an hour in length so the user would be checking out and returning the bike within the same hour. In terms of the trips being taken throughout the day, we can see from the line plot that starting at Hour 5, the number of trips being taken and ending increases almost steadily (with some drops) until approximately Hour 17 when the number of trips begins declining greatly. This may be because users are much more active during the middle of the day rather than in the early morning or night. "
   ]
  },
  {
   "cell_type": "code",
   "execution_count": 49,
   "metadata": {},
   "outputs": [
    {
     "data": {
      "image/png": "[encoded data removed]",
      "text/plain": [
       "<matplotlib.figure.Figure at 0x1a360e3ac8>"
      ]
     },
     "metadata": {},
     "output_type": "display_data"
    }
   ],
   "source": [
    "Start_and_end_count=start_hour_count.with_column(\"End Count\", end_hour_count.column(1)).relabel(\"count\", \"Start Count\").relabel(\"Start Hour\", \"Hour\")\n",
    "Start_and_end_count.plot(0)"
   ]
  },
  {
   "cell_type": "markdown",
   "metadata": {},
   "source": [
    "Next, we'll create a new table called `Rides_per_day_of_week` that will count the number of rides that occur per day for each of the 7 days of the week. We'll also create a bar graph from this data in order to better compare the counts and see how they may vary by day of the week. "
   ]
  },
  {
   "cell_type": "code",
   "execution_count": 50,
   "metadata": {
    "scrolled": true
   },
   "outputs": [
    {
     "data": {
      "text/html": [
       "<table border=\"1\" class=\"dataframe\">\n",
       "    <thead>\n",
       "        <tr>\n",
       "            <th>Order</th> <th>Start Day</th> <th>count</th>\n",
       "        </tr>\n",
       "    </thead>\n",
       "    <tbody>\n",
       "        <tr>\n",
       "            <td>1    </td> <td>Sunday   </td> <td>35097</td>\n",
       "        </tr>\n",
       "    </tbody>\n",
       "        <tr>\n",
       "            <td>2    </td> <td>Monday   </td> <td>24570</td>\n",
       "        </tr>\n",
       "    </tbody>\n",
       "        <tr>\n",
       "            <td>3    </td> <td>Tuesday  </td> <td>24697</td>\n",
       "        </tr>\n",
       "    </tbody>\n",
       "        <tr>\n",
       "            <td>4    </td> <td>Wednesday</td> <td>26525</td>\n",
       "        </tr>\n",
       "    </tbody>\n",
       "        <tr>\n",
       "            <td>5    </td> <td>Thursday </td> <td>23950</td>\n",
       "        </tr>\n",
       "    </tbody>\n",
       "        <tr>\n",
       "            <td>6    </td> <td>Friday   </td> <td>27265</td>\n",
       "        </tr>\n",
       "    </tbody>\n",
       "        <tr>\n",
       "            <td>7    </td> <td>Saturday </td> <td>35655</td>\n",
       "        </tr>\n",
       "    </tbody>\n",
       "</table>"
      ],
      "text/plain": [
       "Order | Start Day | count\n",
       "1     | Sunday    | 35097\n",
       "2     | Monday    | 24570\n",
       "3     | Tuesday   | 24697\n",
       "4     | Wednesday | 26525\n",
       "5     | Thursday  | 23950\n",
       "6     | Friday    | 27265\n",
       "7     | Saturday  | 35655"
      ]
     },
     "execution_count": 50,
     "metadata": {},
     "output_type": "execute_result"
    }
   ],
   "source": [
    "Rides_per_day_of_week=Total_with_days.group(\"Start Day\").with_column(\"Order\", [6, 2, 7, 1, 5, 3, 4]).sort(\"Order\").select(2, 0, 1)\n",
    "Rides_per_day_of_week"
   ]
  },
  {
   "cell_type": "code",
   "execution_count": 51,
   "metadata": {},
   "outputs": [
    {
     "data": {
      "image/png": "[encoded data removed]",
      "text/plain": [
       "<matplotlib.figure.Figure at 0x1a4ba6d400>"
      ]
     },
     "metadata": {},
     "output_type": "display_data"
    }
   ],
   "source": [
    "Rides_per_day_of_week.barh(1,2)"
   ]
  },
  {
   "cell_type": "code",
   "execution_count": 78,
   "metadata": {},
   "outputs": [
    {
     "data": {
      "text/plain": [
       "25401.4"
      ]
     },
     "execution_count": 78,
     "metadata": {},
     "output_type": "execute_result"
    }
   ],
   "source": [
    "average_weekday = np.average(Rides_per_day_of_week.take(np.arange(1, 6)).column('count'))\n",
    "average_weekday"
   ]
  },
  {
   "cell_type": "code",
   "execution_count": 80,
   "metadata": {},
   "outputs": [
    {
     "data": {
      "text/plain": [
       "35376.0"
      ]
     },
     "execution_count": 80,
     "metadata": {},
     "output_type": "execute_result"
    }
   ],
   "source": [
    "average_weekend = np.average(Rides_per_day_of_week.take([0, 6]).column('count'))\n",
    "average_weekend"
   ]
  },
  {
   "cell_type": "code",
   "execution_count": 83,
   "metadata": {},
   "outputs": [
    {
     "data": {
      "text/plain": [
       "9975"
      ]
     },
     "execution_count": 83,
     "metadata": {},
     "output_type": "execute_result"
    }
   ],
   "source": [
    "difference_weekend_weekday = int(round(average_weekend - average_weekday))\n",
    "difference_weekend_weekday"
   ]
  },
  {
   "cell_type": "markdown",
   "metadata": {},
   "source": [
    "From the bar graph above, we can see that Sunday and Saturday have more users than Monday through Friday and by the calculations above, the difference in users is on average about 9975 users which is a pretty considerable amount. We definitely can observe a difference trips based on day in terms of weekend versus weekday; however, if we are just comparing on a day by day basis, we can see that between the days of the week, the number of users only vary slightly; the same can be said when comparing the number of users between the two weekend days. The most significant difference would be between the weekend versus weekday users. \n",
    "\n",
    "**Next, we will continue looking at number of users per day, but in terms of user type.**\n",
    "\n",
    "To do this, we will begin by creating a new table called `Ordered_Day_and_User` that will have the counts per day broken up by usertype. We will also create a bar graph to visualize this. "
   ]
  },
  {
   "cell_type": "code",
   "execution_count": 52,
   "metadata": {},
   "outputs": [
    {
     "data": {
      "text/html": [
       "<table border=\"1\" class=\"dataframe\">\n",
       "    <thead>\n",
       "        <tr>\n",
       "            <th>Start Day</th> <th>Usertype</th> <th>count</th> <th>Order</th>\n",
       "        </tr>\n",
       "    </thead>\n",
       "    <tbody>\n",
       "        <tr>\n",
       "            <td>Sunday   </td> <td>Customer  </td> <td>27879</td> <td>1    </td>\n",
       "        </tr>\n",
       "    </tbody>\n",
       "        <tr>\n",
       "            <td>Sunday   </td> <td>Daily     </td> <td>42   </td> <td>1    </td>\n",
       "        </tr>\n",
       "    </tbody>\n",
       "        <tr>\n",
       "            <td>Sunday   </td> <td>Subscriber</td> <td>7176 </td> <td>1    </td>\n",
       "        </tr>\n",
       "    </tbody>\n",
       "        <tr>\n",
       "            <td>Monday   </td> <td>Customer  </td> <td>12936</td> <td>2    </td>\n",
       "        </tr>\n",
       "    </tbody>\n",
       "        <tr>\n",
       "            <td>Monday   </td> <td>Daily     </td> <td>15   </td> <td>2    </td>\n",
       "        </tr>\n",
       "    </tbody>\n",
       "        <tr>\n",
       "            <td>Monday   </td> <td>Subscriber</td> <td>11619</td> <td>2    </td>\n",
       "        </tr>\n",
       "    </tbody>\n",
       "        <tr>\n",
       "            <td>Tuesday  </td> <td>Customer  </td> <td>11989</td> <td>3    </td>\n",
       "        </tr>\n",
       "    </tbody>\n",
       "        <tr>\n",
       "            <td>Tuesday  </td> <td>Daily     </td> <td>19   </td> <td>3    </td>\n",
       "        </tr>\n",
       "    </tbody>\n",
       "        <tr>\n",
       "            <td>Tuesday  </td> <td>Subscriber</td> <td>12689</td> <td>3    </td>\n",
       "        </tr>\n",
       "    </tbody>\n",
       "        <tr>\n",
       "            <td>Wednesday</td> <td>Customer  </td> <td>13120</td> <td>4    </td>\n",
       "        </tr>\n",
       "    </tbody>\n",
       "</table>\n",
       "<p>... (11 rows omitted)</p>"
      ],
      "text/plain": [
       "Start Day | Usertype   | count | Order\n",
       "Sunday    | Customer   | 27879 | 1\n",
       "Sunday    | Daily      | 42    | 1\n",
       "Sunday    | Subscriber | 7176  | 1\n",
       "Monday    | Customer   | 12936 | 2\n",
       "Monday    | Daily      | 15    | 2\n",
       "Monday    | Subscriber | 11619 | 2\n",
       "Tuesday   | Customer   | 11989 | 3\n",
       "Tuesday   | Daily      | 19    | 3\n",
       "Tuesday   | Subscriber | 12689 | 3\n",
       "Wednesday | Customer   | 13120 | 4\n",
       "... (11 rows omitted)"
      ]
     },
     "execution_count": 52,
     "metadata": {},
     "output_type": "execute_result"
    }
   ],
   "source": [
    "Ordered_Day_and_User=Total_with_days.group([\"Start Day\", \"Usertype\"]).with_column(\"Order\", [6, 6, 6, 2, 2, 2, 7, 7, 7, 1, 1, 1, 5, 5, 5, 3, 3, 3, 4, 4, 4]).sort(\"Order\")\n",
    "Ordered_Day_and_User"
   ]
  },
  {
   "cell_type": "code",
   "execution_count": 53,
   "metadata": {
    "scrolled": true
   },
   "outputs": [
    {
     "data": {
      "image/png": "[encoded data removed]",
      "text/plain": [
       "<matplotlib.figure.Figure at 0x1a4c6cd2b0>"
      ]
     },
     "metadata": {},
     "output_type": "display_data"
    }
   ],
   "source": [
    "N = 7\n",
    "\n",
    "cust_day  = Ordered_Day_and_User.take(np.arange(0, 21, 3)).column(2)\n",
    "daily_day=Ordered_Day_and_User.take(np.arange(1, 21, 3)).column(2)\n",
    "Sub_day=Ordered_Day_and_User.take(np.arange(2, 21, 3)).column(2)\n",
    "\n",
    "ind = np.arange(N)    \n",
    "width = 0.5       \n",
    "\n",
    "p1 = plt.bar(ind, cust_day, width)\n",
    "p2 = plt.bar(ind, daily_day, width, bottom=cust_day+Sub_day)\n",
    "p3 = plt.bar(ind, Sub_day, width, bottom=cust_day )\n",
    "\n",
    "plt.ylabel('Number of Users')\n",
    "plt.title('Number of Users per Day')\n",
    "plt.xticks(ind, (make_array(\"Sun\", \"Mon\", \"Tues\", \"Wed\", \"Thurs\", \"Fri\", \"Sat\")))\n",
    "plt.yticks(np.arange(0, 45000, 3000))\n",
    "plt.legend((p1[0], p2[0], p3[0]), ('Customer', 'Daily', \"Subscriber\"))\n",
    "\n",
    "plt.show()"
   ]
  },
  {
   "cell_type": "markdown",
   "metadata": {},
   "source": [
    "We already knew that the number of Daily user types is very low compared to the number of Customer and Subscriber users which is again reinforced by this bar graph. It is important to note that all three user types are active throughout the week, as seen on the table, though Daily users cannot be seen on the graph for the weekdays because their numbers are so low. Both Customer and Subscriber users are approximately equally active on the weekdays, but on the weekend, Customer users are much more active than Subscriber users. The reason for this can't be determined just from reading the table or the graphs, however. \n",
    "\n",
    "Again, from this information, we can see that user types do seem to vary based on day of the week, though the variation is not too great. \n",
    "\n",
    "**Next, we will look at trip duration per day.**\n",
    "\n",
    "To start, we will create a table called `Avg_duration_per_day` which will contain the trip duration average for the 7 days of the week. We will also create a bar chart from this data."
   ]
  },
  {
   "cell_type": "code",
   "execution_count": 54,
   "metadata": {},
   "outputs": [
    {
     "data": {
      "text/html": [
       "<table border=\"1\" class=\"dataframe\">\n",
       "    <thead>\n",
       "        <tr>\n",
       "            <th>Order</th> <th>Start Day</th> <th>Tripduration average</th>\n",
       "        </tr>\n",
       "    </thead>\n",
       "    <tbody>\n",
       "        <tr>\n",
       "            <td>1    </td> <td>Sunday   </td> <td>4374.67             </td>\n",
       "        </tr>\n",
       "    </tbody>\n",
       "        <tr>\n",
       "            <td>2    </td> <td>Monday   </td> <td>3172.11             </td>\n",
       "        </tr>\n",
       "    </tbody>\n",
       "        <tr>\n",
       "            <td>3    </td> <td>Tuesday  </td> <td>2992.42             </td>\n",
       "        </tr>\n",
       "    </tbody>\n",
       "        <tr>\n",
       "            <td>4    </td> <td>Wednesday</td> <td>2966.41             </td>\n",
       "        </tr>\n",
       "    </tbody>\n",
       "        <tr>\n",
       "            <td>5    </td> <td>Thursday </td> <td>2986.45             </td>\n",
       "        </tr>\n",
       "    </tbody>\n",
       "        <tr>\n",
       "            <td>6    </td> <td>Friday   </td> <td>3223.46             </td>\n",
       "        </tr>\n",
       "    </tbody>\n",
       "        <tr>\n",
       "            <td>7    </td> <td>Saturday </td> <td>4440                </td>\n",
       "        </tr>\n",
       "    </tbody>\n",
       "</table>"
      ],
      "text/plain": [
       "Order | Start Day | Tripduration average\n",
       "1     | Sunday    | 4374.67\n",
       "2     | Monday    | 3172.11\n",
       "3     | Tuesday   | 2992.42\n",
       "4     | Wednesday | 2966.41\n",
       "5     | Thursday  | 2986.45\n",
       "6     | Friday    | 3223.46\n",
       "7     | Saturday  | 4440"
      ]
     },
     "execution_count": 54,
     "metadata": {},
     "output_type": "execute_result"
    }
   ],
   "source": [
    "Avg_duration_per_day=Total_with_days.select(6, \"Start Day\").group(\"Start Day\", np.average).with_column(\"Order\", [6, 2, 7, 1, 5, 3, 4]).sort(\"Order\").select(2,0,1)\n",
    "Avg_duration_per_day"
   ]
  },
  {
   "cell_type": "code",
   "execution_count": 55,
   "metadata": {
    "scrolled": true
   },
   "outputs": [
    {
     "data": {
      "image/png": "[encoded data removed]",
      "text/plain": [
       "<matplotlib.figure.Figure at 0x1a66162240>"
      ]
     },
     "metadata": {},
     "output_type": "display_data"
    }
   ],
   "source": [
    "Avg_duration_per_day.barh(1, 2)"
   ]
  },
  {
   "cell_type": "code",
   "execution_count": 85,
   "metadata": {},
   "outputs": [
    {
     "data": {
      "text/plain": [
       "3068.1712773530267"
      ]
     },
     "execution_count": 85,
     "metadata": {},
     "output_type": "execute_result"
    }
   ],
   "source": [
    "average_weekday_trip = np.average(Avg_duration_per_day.take(np.arange(1, 6)).column('Tripduration average'))\n",
    "average_weekday_trip"
   ]
  },
  {
   "cell_type": "code",
   "execution_count": 88,
   "metadata": {},
   "outputs": [
    {
     "data": {
      "text/plain": [
       "4407.333829498963"
      ]
     },
     "execution_count": 88,
     "metadata": {},
     "output_type": "execute_result"
    }
   ],
   "source": [
    "average_weekend_trip = np.average(Avg_duration_per_day.take([0, 6]).column('Tripduration average'))\n",
    "average_weekend_trip"
   ]
  },
  {
   "cell_type": "code",
   "execution_count": 89,
   "metadata": {},
   "outputs": [
    {
     "data": {
      "text/plain": [
       "1339"
      ]
     },
     "execution_count": 89,
     "metadata": {},
     "output_type": "execute_result"
    }
   ],
   "source": [
    "difference_avg_trip = int(round(average_weekend_trip - average_weekday_trip))\n",
    "difference_avg_trip"
   ]
  },
  {
   "cell_type": "markdown",
   "metadata": {},
   "source": [
    "From the bar chart, we can see that trip duration average varies only slightly between the days of the week as well as between the two weekend days. However, it is greater on the weekend versus the weekdays; the difference in the average trip duration average on the weekend versus weekdays is 1339 seconds as calculated above. \n",
    "\n",
    "We can see that in terms of trip duration average, the day of the week does have an affect if comparing between weekdays and weekends, but varies only slightly if comparing between the days of the week or the days of the weekend. "
   ]
  },
  {
   "cell_type": "markdown",
   "metadata": {},
   "source": [
    "**SUMMARY**:\n",
    "For question 3, we wanted to see if types of trips vary with time of day or time of year. To do so, we did the following:\n",
    "    1. Looked at the number of users per quarter (time of year)\n",
    "    2. Looked at the trip duration per quarter (time of year)\n",
    "    3. Looked at start and end counts per hour (time of day)\n",
    "    4. Looked at number of rides per day \n",
    "    5. Looked at number of rides per day based on user type\n",
    "    6. Looked at average trip duration per day\n",
    "    \n",
    "**ANSWER**: \n",
    "For each of the following, we saw that the data did vary based on the time of day and time of year, though some more greatly than others. In terms of the number of users per quarter, we saw that certain quarters (Q2 & Q3) were much more popular than others (Q1 & Q4) in terms of activity. The same was seen for trip duration per quarter. In terms of start and end counts per hour, we saw that they aligned almost perfectly and that the morning/middle of the day is much more popular for riders than the early morning/night. For the number of rides per day as well as average trip duration per day, we saw that weekends are much more active than weekdays in terms of amount of rides as well as longivity of rides. When comparing just the weekdays or weekends, however, there wasn't much variation between the days. Lastly, looking at the number of rides per day based on user type, we also saw a similar pattern in that Subscriber and Customer user types are similar in activity during the days of the week but on the weekends, Customer users are much more active than Subscriber users. Again, we saw that Daily users are very small in numbers. Overall, from all of these comparisons, we can observe a difference in types of trips in terms of number of users/rides and average trip duration based on both the time of day for hour and day of week as well as time of year. "
   ]
  },
  {
   "cell_type": "code",
   "execution_count": null,
   "metadata": {},
   "outputs": [],
   "source": []
  }
 ],
 "metadata": {
  "kernelspec": {
   "display_name": "Python 3",
   "language": "python",
   "name": "python3"
  },
  "language_info": {
   "codemirror_mode": {
    "name": "ipython",
    "version": 3
   },
   "file_extension": ".py",
   "mimetype": "text/x-python",
   "name": "python",
   "nbconvert_exporter": "python",
   "pygments_lexer": "ipython3",
   "version": "3.6.4"
  }
 },
 "nbformat": 4,
 "nbformat_minor": 2
}
